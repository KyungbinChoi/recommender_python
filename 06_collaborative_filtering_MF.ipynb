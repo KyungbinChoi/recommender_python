{
 "cells": [
  {
   "attachments": {},
   "cell_type": "markdown",
   "metadata": {},
   "source": [
    "## Collaborative filtering - Model based (Matrix Factorization)"
   ]
  },
  {
   "cell_type": "code",
   "execution_count": 1,
   "metadata": {},
   "outputs": [
    {
     "name": "stdout",
     "output_type": "stream",
     "text": [
      "Requirement already satisfied: scikit-learn in /Users/a202304035/python_adv/lib/python3.10/site-packages (1.5.2)\n",
      "Requirement already satisfied: numpy>=1.19.5 in /Users/a202304035/python_adv/lib/python3.10/site-packages (from scikit-learn) (1.24.3)\n",
      "Requirement already satisfied: scipy>=1.6.0 in /Users/a202304035/python_adv/lib/python3.10/site-packages (from scikit-learn) (1.11.3)\n",
      "Requirement already satisfied: joblib>=1.2.0 in /Users/a202304035/python_adv/lib/python3.10/site-packages (from scikit-learn) (1.4.2)\n",
      "Requirement already satisfied: threadpoolctl>=3.1.0 in /Users/a202304035/python_adv/lib/python3.10/site-packages (from scikit-learn) (3.5.0)\n",
      "\n",
      "\u001b[1m[\u001b[0m\u001b[34;49mnotice\u001b[0m\u001b[1;39;49m]\u001b[0m\u001b[39;49m A new release of pip is available: \u001b[0m\u001b[31;49m23.1.2\u001b[0m\u001b[39;49m -> \u001b[0m\u001b[32;49m24.3.1\u001b[0m\n",
      "\u001b[1m[\u001b[0m\u001b[34;49mnotice\u001b[0m\u001b[1;39;49m]\u001b[0m\u001b[39;49m To update, run: \u001b[0m\u001b[32;49mpip install --upgrade pip\u001b[0m\n"
     ]
    }
   ],
   "source": [
    "!pip install scikit-learn"
   ]
  },
  {
   "cell_type": "code",
   "execution_count": 2,
   "metadata": {},
   "outputs": [],
   "source": [
    "import os\n",
    "import pandas as pd\n",
    "import numpy as np\n",
    "from math import sqrt\n",
    "from tqdm import tqdm_notebook as tqdm\n",
    "\n",
    "from sklearn.model_selection import train_test_split\n",
    "from sklearn.metrics import mean_squared_error"
   ]
  },
  {
   "cell_type": "code",
   "execution_count": 3,
   "metadata": {},
   "outputs": [],
   "source": [
    "path = \"./movielens/movielens100k/\"\n",
    "ratings_df = pd.read_csv(os.path.join(path, 'ratings.csv'), index_col = 'userId', encoding='utf-8').reset_index()"
   ]
  },
  {
   "cell_type": "code",
   "execution_count": 4,
   "metadata": {},
   "outputs": [
    {
     "name": "stdout",
     "output_type": "stream",
     "text": [
      "(80003, 4)\n",
      "(20001, 4)\n"
     ]
    }
   ],
   "source": [
    "train_df, test_df = train_test_split(ratings_df, test_size=0.2, random_state=123)\n",
    "\n",
    "print(train_df.shape)\n",
    "print(test_df.shape)"
   ]
  },
  {
   "cell_type": "code",
   "execution_count": 5,
   "metadata": {},
   "outputs": [
    {
     "data": {
      "text/html": [
       "<div>\n",
       "<style scoped>\n",
       "    .dataframe tbody tr th:only-of-type {\n",
       "        vertical-align: middle;\n",
       "    }\n",
       "\n",
       "    .dataframe tbody tr th {\n",
       "        vertical-align: top;\n",
       "    }\n",
       "\n",
       "    .dataframe thead th {\n",
       "        text-align: right;\n",
       "    }\n",
       "</style>\n",
       "<table border=\"1\" class=\"dataframe\">\n",
       "  <thead>\n",
       "    <tr style=\"text-align: right;\">\n",
       "      <th>userId</th>\n",
       "      <th>1</th>\n",
       "      <th>2</th>\n",
       "      <th>3</th>\n",
       "      <th>4</th>\n",
       "      <th>5</th>\n",
       "      <th>6</th>\n",
       "      <th>7</th>\n",
       "      <th>8</th>\n",
       "      <th>9</th>\n",
       "      <th>10</th>\n",
       "      <th>...</th>\n",
       "      <th>662</th>\n",
       "      <th>663</th>\n",
       "      <th>664</th>\n",
       "      <th>665</th>\n",
       "      <th>666</th>\n",
       "      <th>667</th>\n",
       "      <th>668</th>\n",
       "      <th>669</th>\n",
       "      <th>670</th>\n",
       "      <th>671</th>\n",
       "    </tr>\n",
       "    <tr>\n",
       "      <th>movieId</th>\n",
       "      <th></th>\n",
       "      <th></th>\n",
       "      <th></th>\n",
       "      <th></th>\n",
       "      <th></th>\n",
       "      <th></th>\n",
       "      <th></th>\n",
       "      <th></th>\n",
       "      <th></th>\n",
       "      <th></th>\n",
       "      <th></th>\n",
       "      <th></th>\n",
       "      <th></th>\n",
       "      <th></th>\n",
       "      <th></th>\n",
       "      <th></th>\n",
       "      <th></th>\n",
       "      <th></th>\n",
       "      <th></th>\n",
       "      <th></th>\n",
       "      <th></th>\n",
       "    </tr>\n",
       "  </thead>\n",
       "  <tbody>\n",
       "    <tr>\n",
       "      <th>1</th>\n",
       "      <td>NaN</td>\n",
       "      <td>NaN</td>\n",
       "      <td>NaN</td>\n",
       "      <td>NaN</td>\n",
       "      <td>NaN</td>\n",
       "      <td>NaN</td>\n",
       "      <td>3.0</td>\n",
       "      <td>NaN</td>\n",
       "      <td>4.0</td>\n",
       "      <td>NaN</td>\n",
       "      <td>...</td>\n",
       "      <td>NaN</td>\n",
       "      <td>4.0</td>\n",
       "      <td>3.5</td>\n",
       "      <td>NaN</td>\n",
       "      <td>NaN</td>\n",
       "      <td>NaN</td>\n",
       "      <td>NaN</td>\n",
       "      <td>NaN</td>\n",
       "      <td>4.0</td>\n",
       "      <td>5.0</td>\n",
       "    </tr>\n",
       "    <tr>\n",
       "      <th>2</th>\n",
       "      <td>NaN</td>\n",
       "      <td>NaN</td>\n",
       "      <td>NaN</td>\n",
       "      <td>NaN</td>\n",
       "      <td>NaN</td>\n",
       "      <td>NaN</td>\n",
       "      <td>NaN</td>\n",
       "      <td>NaN</td>\n",
       "      <td>NaN</td>\n",
       "      <td>NaN</td>\n",
       "      <td>...</td>\n",
       "      <td>5.0</td>\n",
       "      <td>NaN</td>\n",
       "      <td>NaN</td>\n",
       "      <td>3.0</td>\n",
       "      <td>NaN</td>\n",
       "      <td>NaN</td>\n",
       "      <td>NaN</td>\n",
       "      <td>NaN</td>\n",
       "      <td>NaN</td>\n",
       "      <td>NaN</td>\n",
       "    </tr>\n",
       "    <tr>\n",
       "      <th>3</th>\n",
       "      <td>NaN</td>\n",
       "      <td>NaN</td>\n",
       "      <td>NaN</td>\n",
       "      <td>NaN</td>\n",
       "      <td>4.0</td>\n",
       "      <td>NaN</td>\n",
       "      <td>NaN</td>\n",
       "      <td>NaN</td>\n",
       "      <td>NaN</td>\n",
       "      <td>NaN</td>\n",
       "      <td>...</td>\n",
       "      <td>NaN</td>\n",
       "      <td>NaN</td>\n",
       "      <td>NaN</td>\n",
       "      <td>3.0</td>\n",
       "      <td>NaN</td>\n",
       "      <td>NaN</td>\n",
       "      <td>NaN</td>\n",
       "      <td>NaN</td>\n",
       "      <td>NaN</td>\n",
       "      <td>NaN</td>\n",
       "    </tr>\n",
       "    <tr>\n",
       "      <th>4</th>\n",
       "      <td>NaN</td>\n",
       "      <td>NaN</td>\n",
       "      <td>NaN</td>\n",
       "      <td>NaN</td>\n",
       "      <td>NaN</td>\n",
       "      <td>NaN</td>\n",
       "      <td>NaN</td>\n",
       "      <td>NaN</td>\n",
       "      <td>NaN</td>\n",
       "      <td>NaN</td>\n",
       "      <td>...</td>\n",
       "      <td>NaN</td>\n",
       "      <td>NaN</td>\n",
       "      <td>NaN</td>\n",
       "      <td>NaN</td>\n",
       "      <td>NaN</td>\n",
       "      <td>NaN</td>\n",
       "      <td>NaN</td>\n",
       "      <td>NaN</td>\n",
       "      <td>NaN</td>\n",
       "      <td>NaN</td>\n",
       "    </tr>\n",
       "    <tr>\n",
       "      <th>5</th>\n",
       "      <td>NaN</td>\n",
       "      <td>NaN</td>\n",
       "      <td>NaN</td>\n",
       "      <td>NaN</td>\n",
       "      <td>NaN</td>\n",
       "      <td>NaN</td>\n",
       "      <td>NaN</td>\n",
       "      <td>NaN</td>\n",
       "      <td>NaN</td>\n",
       "      <td>NaN</td>\n",
       "      <td>...</td>\n",
       "      <td>NaN</td>\n",
       "      <td>NaN</td>\n",
       "      <td>NaN</td>\n",
       "      <td>3.0</td>\n",
       "      <td>NaN</td>\n",
       "      <td>NaN</td>\n",
       "      <td>NaN</td>\n",
       "      <td>NaN</td>\n",
       "      <td>NaN</td>\n",
       "      <td>NaN</td>\n",
       "    </tr>\n",
       "  </tbody>\n",
       "</table>\n",
       "<p>5 rows × 671 columns</p>\n",
       "</div>"
      ],
      "text/plain": [
       "userId   1    2    3    4    5    6    7    8    9    10   ...  662  663  664   \n",
       "movieId                                                    ...                  \n",
       "1        NaN  NaN  NaN  NaN  NaN  NaN  3.0  NaN  4.0  NaN  ...  NaN  4.0  3.5  \\\n",
       "2        NaN  NaN  NaN  NaN  NaN  NaN  NaN  NaN  NaN  NaN  ...  5.0  NaN  NaN   \n",
       "3        NaN  NaN  NaN  NaN  4.0  NaN  NaN  NaN  NaN  NaN  ...  NaN  NaN  NaN   \n",
       "4        NaN  NaN  NaN  NaN  NaN  NaN  NaN  NaN  NaN  NaN  ...  NaN  NaN  NaN   \n",
       "5        NaN  NaN  NaN  NaN  NaN  NaN  NaN  NaN  NaN  NaN  ...  NaN  NaN  NaN   \n",
       "\n",
       "userId   665  666  667  668  669  670  671  \n",
       "movieId                                     \n",
       "1        NaN  NaN  NaN  NaN  NaN  4.0  5.0  \n",
       "2        3.0  NaN  NaN  NaN  NaN  NaN  NaN  \n",
       "3        3.0  NaN  NaN  NaN  NaN  NaN  NaN  \n",
       "4        NaN  NaN  NaN  NaN  NaN  NaN  NaN  \n",
       "5        3.0  NaN  NaN  NaN  NaN  NaN  NaN  \n",
       "\n",
       "[5 rows x 671 columns]"
      ]
     },
     "execution_count": 5,
     "metadata": {},
     "output_type": "execute_result"
    }
   ],
   "source": [
    "sparse_matrix = train_df.groupby('movieId').apply(lambda x: pd.Series(x['rating'].values, index=x['userId'])).unstack()\n",
    "sparse_matrix.index.name = 'movieId'\n",
    "\n",
    "sparse_matrix.head()"
   ]
  },
  {
   "cell_type": "code",
   "execution_count": 6,
   "metadata": {},
   "outputs": [],
   "source": [
    "# fill sparse matrix with average of movie ratings\n",
    "sparse_matrix_withmovie = sparse_matrix.apply(lambda x: x.fillna(x.mean()), axis=1)\n",
    "\n",
    "# fill sparse matrix with average of user ratings\n",
    "sparse_matrix_withuser = sparse_matrix.apply(lambda x: x.fillna(x.mean()), axis=0)"
   ]
  },
  {
   "attachments": {},
   "cell_type": "markdown",
   "metadata": {},
   "source": [
    "### Matrix factorization (SVD)"
   ]
  },
  {
   "cell_type": "code",
   "execution_count": 7,
   "metadata": {},
   "outputs": [],
   "source": [
    "def get_svd(s_matrix, k=300):\n",
    "    u, s, vh = np.linalg.svd(s_matrix.transpose())\n",
    "    S = s[:k] * np.identity(k, np.float64)\n",
    "    T = u[:,:k]\n",
    "    Dt = vh[:k,:]\n",
    "\n",
    "    item_factors = np.transpose(np.matmul(S, Dt))\n",
    "    user_factors = np.transpose(T)\n",
    "\n",
    "    return item_factors, user_factors"
   ]
  },
  {
   "cell_type": "code",
   "execution_count": 8,
   "metadata": {},
   "outputs": [],
   "source": [
    "# filled average movie rating \n",
    "item_factors, user_factors = get_svd(sparse_matrix_withmovie)\n",
    "prediction_result_df = pd.DataFrame(np.matmul(item_factors, user_factors),\n",
    "                                    columns=sparse_matrix_withmovie.columns.values, index=sparse_matrix_withmovie.index.values)\n",
    "\n",
    "movie_prediction_result_df = prediction_result_df.transpose()"
   ]
  },
  {
   "cell_type": "code",
   "execution_count": 9,
   "metadata": {},
   "outputs": [
    {
     "name": "stdout",
     "output_type": "stream",
     "text": [
      "(8410, 300)\n",
      "(300, 671)\n"
     ]
    }
   ],
   "source": [
    "print(item_factors.shape)\n",
    "print(user_factors.shape)"
   ]
  },
  {
   "cell_type": "code",
   "execution_count": 10,
   "metadata": {},
   "outputs": [
    {
     "data": {
      "text/html": [
       "<div>\n",
       "<style scoped>\n",
       "    .dataframe tbody tr th:only-of-type {\n",
       "        vertical-align: middle;\n",
       "    }\n",
       "\n",
       "    .dataframe tbody tr th {\n",
       "        vertical-align: top;\n",
       "    }\n",
       "\n",
       "    .dataframe thead th {\n",
       "        text-align: right;\n",
       "    }\n",
       "</style>\n",
       "<table border=\"1\" class=\"dataframe\">\n",
       "  <thead>\n",
       "    <tr style=\"text-align: right;\">\n",
       "      <th></th>\n",
       "      <th>1</th>\n",
       "      <th>2</th>\n",
       "      <th>3</th>\n",
       "      <th>4</th>\n",
       "      <th>5</th>\n",
       "      <th>6</th>\n",
       "      <th>7</th>\n",
       "      <th>8</th>\n",
       "      <th>9</th>\n",
       "      <th>10</th>\n",
       "      <th>...</th>\n",
       "      <th>161084</th>\n",
       "      <th>161155</th>\n",
       "      <th>161594</th>\n",
       "      <th>161830</th>\n",
       "      <th>161918</th>\n",
       "      <th>161944</th>\n",
       "      <th>162376</th>\n",
       "      <th>162542</th>\n",
       "      <th>162672</th>\n",
       "      <th>163949</th>\n",
       "    </tr>\n",
       "  </thead>\n",
       "  <tbody>\n",
       "    <tr>\n",
       "      <th>1</th>\n",
       "      <td>3.966821</td>\n",
       "      <td>3.304887</td>\n",
       "      <td>3.150009</td>\n",
       "      <td>2.568517</td>\n",
       "      <td>3.368523</td>\n",
       "      <td>3.935357</td>\n",
       "      <td>3.220799</td>\n",
       "      <td>3.289031</td>\n",
       "      <td>3.152533</td>\n",
       "      <td>3.445781</td>\n",
       "      <td>...</td>\n",
       "      <td>2.500275</td>\n",
       "      <td>0.500055</td>\n",
       "      <td>3.000330</td>\n",
       "      <td>1.000110</td>\n",
       "      <td>1.500165</td>\n",
       "      <td>5.000550</td>\n",
       "      <td>4.500495</td>\n",
       "      <td>5.000550</td>\n",
       "      <td>3.000330</td>\n",
       "      <td>5.000550</td>\n",
       "    </tr>\n",
       "    <tr>\n",
       "      <th>2</th>\n",
       "      <td>3.962305</td>\n",
       "      <td>3.386131</td>\n",
       "      <td>3.153310</td>\n",
       "      <td>2.551842</td>\n",
       "      <td>3.208574</td>\n",
       "      <td>3.949514</td>\n",
       "      <td>3.193487</td>\n",
       "      <td>3.228757</td>\n",
       "      <td>3.179229</td>\n",
       "      <td>3.747424</td>\n",
       "      <td>...</td>\n",
       "      <td>2.500059</td>\n",
       "      <td>0.500012</td>\n",
       "      <td>3.000071</td>\n",
       "      <td>1.000024</td>\n",
       "      <td>1.500036</td>\n",
       "      <td>5.000118</td>\n",
       "      <td>4.500107</td>\n",
       "      <td>5.000118</td>\n",
       "      <td>3.000071</td>\n",
       "      <td>5.000118</td>\n",
       "    </tr>\n",
       "    <tr>\n",
       "      <th>3</th>\n",
       "      <td>3.864615</td>\n",
       "      <td>3.513745</td>\n",
       "      <td>3.238601</td>\n",
       "      <td>2.533615</td>\n",
       "      <td>3.227101</td>\n",
       "      <td>3.826269</td>\n",
       "      <td>3.199166</td>\n",
       "      <td>3.290263</td>\n",
       "      <td>3.186629</td>\n",
       "      <td>3.484503</td>\n",
       "      <td>...</td>\n",
       "      <td>2.499602</td>\n",
       "      <td>0.499920</td>\n",
       "      <td>2.999522</td>\n",
       "      <td>0.999841</td>\n",
       "      <td>1.499761</td>\n",
       "      <td>4.999204</td>\n",
       "      <td>4.499284</td>\n",
       "      <td>4.999204</td>\n",
       "      <td>2.999522</td>\n",
       "      <td>4.999204</td>\n",
       "    </tr>\n",
       "    <tr>\n",
       "      <th>4</th>\n",
       "      <td>3.912208</td>\n",
       "      <td>3.391451</td>\n",
       "      <td>3.137609</td>\n",
       "      <td>2.588494</td>\n",
       "      <td>3.319791</td>\n",
       "      <td>3.890230</td>\n",
       "      <td>3.197622</td>\n",
       "      <td>3.344723</td>\n",
       "      <td>3.150636</td>\n",
       "      <td>3.952209</td>\n",
       "      <td>...</td>\n",
       "      <td>2.499992</td>\n",
       "      <td>0.499998</td>\n",
       "      <td>2.999990</td>\n",
       "      <td>0.999997</td>\n",
       "      <td>1.499995</td>\n",
       "      <td>4.999983</td>\n",
       "      <td>4.499985</td>\n",
       "      <td>4.999983</td>\n",
       "      <td>2.999990</td>\n",
       "      <td>4.999983</td>\n",
       "    </tr>\n",
       "    <tr>\n",
       "      <th>5</th>\n",
       "      <td>3.864681</td>\n",
       "      <td>3.574060</td>\n",
       "      <td>4.031263</td>\n",
       "      <td>2.586854</td>\n",
       "      <td>3.380973</td>\n",
       "      <td>3.693254</td>\n",
       "      <td>3.101154</td>\n",
       "      <td>3.294792</td>\n",
       "      <td>3.220722</td>\n",
       "      <td>3.475165</td>\n",
       "      <td>...</td>\n",
       "      <td>2.499621</td>\n",
       "      <td>0.499924</td>\n",
       "      <td>2.999545</td>\n",
       "      <td>0.999848</td>\n",
       "      <td>1.499773</td>\n",
       "      <td>4.999242</td>\n",
       "      <td>4.499318</td>\n",
       "      <td>4.999242</td>\n",
       "      <td>2.999545</td>\n",
       "      <td>4.999242</td>\n",
       "    </tr>\n",
       "  </tbody>\n",
       "</table>\n",
       "<p>5 rows × 8410 columns</p>\n",
       "</div>"
      ],
      "text/plain": [
       "     1         2         3         4         5         6         7        \n",
       "1  3.966821  3.304887  3.150009  2.568517  3.368523  3.935357  3.220799  \\\n",
       "2  3.962305  3.386131  3.153310  2.551842  3.208574  3.949514  3.193487   \n",
       "3  3.864615  3.513745  3.238601  2.533615  3.227101  3.826269  3.199166   \n",
       "4  3.912208  3.391451  3.137609  2.588494  3.319791  3.890230  3.197622   \n",
       "5  3.864681  3.574060  4.031263  2.586854  3.380973  3.693254  3.101154   \n",
       "\n",
       "     8         9         10      ...    161084    161155    161594    161830   \n",
       "1  3.289031  3.152533  3.445781  ...  2.500275  0.500055  3.000330  1.000110  \\\n",
       "2  3.228757  3.179229  3.747424  ...  2.500059  0.500012  3.000071  1.000024   \n",
       "3  3.290263  3.186629  3.484503  ...  2.499602  0.499920  2.999522  0.999841   \n",
       "4  3.344723  3.150636  3.952209  ...  2.499992  0.499998  2.999990  0.999997   \n",
       "5  3.294792  3.220722  3.475165  ...  2.499621  0.499924  2.999545  0.999848   \n",
       "\n",
       "     161918    161944    162376    162542    162672    163949  \n",
       "1  1.500165  5.000550  4.500495  5.000550  3.000330  5.000550  \n",
       "2  1.500036  5.000118  4.500107  5.000118  3.000071  5.000118  \n",
       "3  1.499761  4.999204  4.499284  4.999204  2.999522  4.999204  \n",
       "4  1.499995  4.999983  4.499985  4.999983  2.999990  4.999983  \n",
       "5  1.499773  4.999242  4.499318  4.999242  2.999545  4.999242  \n",
       "\n",
       "[5 rows x 8410 columns]"
      ]
     },
     "execution_count": 10,
     "metadata": {},
     "output_type": "execute_result"
    }
   ],
   "source": [
    "movie_prediction_result_df.head()"
   ]
  },
  {
   "cell_type": "code",
   "execution_count": 11,
   "metadata": {},
   "outputs": [],
   "source": [
    "# filled average user rating \n",
    "item_factors, user_factors = get_svd(sparse_matrix_withuser)\n",
    "prediction_result_df = pd.DataFrame(np.matmul(item_factors, user_factors),\n",
    "                                    columns=sparse_matrix_withuser.columns.values, index=sparse_matrix_withuser.index.values)\n",
    "\n",
    "user_prediction_result_df = prediction_result_df.transpose()"
   ]
  },
  {
   "cell_type": "code",
   "execution_count": 12,
   "metadata": {},
   "outputs": [
    {
     "name": "stdout",
     "output_type": "stream",
     "text": [
      "(8410, 300)\n",
      "(300, 671)\n"
     ]
    }
   ],
   "source": [
    "print(item_factors.shape)\n",
    "print(user_factors.shape)"
   ]
  },
  {
   "cell_type": "code",
   "execution_count": 13,
   "metadata": {},
   "outputs": [
    {
     "data": {
      "text/html": [
       "<div>\n",
       "<style scoped>\n",
       "    .dataframe tbody tr th:only-of-type {\n",
       "        vertical-align: middle;\n",
       "    }\n",
       "\n",
       "    .dataframe tbody tr th {\n",
       "        vertical-align: top;\n",
       "    }\n",
       "\n",
       "    .dataframe thead th {\n",
       "        text-align: right;\n",
       "    }\n",
       "</style>\n",
       "<table border=\"1\" class=\"dataframe\">\n",
       "  <thead>\n",
       "    <tr style=\"text-align: right;\">\n",
       "      <th></th>\n",
       "      <th>1</th>\n",
       "      <th>2</th>\n",
       "      <th>3</th>\n",
       "      <th>4</th>\n",
       "      <th>5</th>\n",
       "      <th>6</th>\n",
       "      <th>7</th>\n",
       "      <th>8</th>\n",
       "      <th>9</th>\n",
       "      <th>10</th>\n",
       "      <th>...</th>\n",
       "      <th>161084</th>\n",
       "      <th>161155</th>\n",
       "      <th>161594</th>\n",
       "      <th>161830</th>\n",
       "      <th>161918</th>\n",
       "      <th>161944</th>\n",
       "      <th>162376</th>\n",
       "      <th>162542</th>\n",
       "      <th>162672</th>\n",
       "      <th>163949</th>\n",
       "    </tr>\n",
       "  </thead>\n",
       "  <tbody>\n",
       "    <tr>\n",
       "      <th>1</th>\n",
       "      <td>2.366435</td>\n",
       "      <td>2.313420</td>\n",
       "      <td>2.436901</td>\n",
       "      <td>2.378410</td>\n",
       "      <td>2.380757</td>\n",
       "      <td>2.377249</td>\n",
       "      <td>2.386754</td>\n",
       "      <td>2.376033</td>\n",
       "      <td>2.381921</td>\n",
       "      <td>2.354715</td>\n",
       "      <td>...</td>\n",
       "      <td>2.381098</td>\n",
       "      <td>2.383131</td>\n",
       "      <td>2.383605</td>\n",
       "      <td>2.382094</td>\n",
       "      <td>2.382163</td>\n",
       "      <td>2.382975</td>\n",
       "      <td>2.378362</td>\n",
       "      <td>2.383582</td>\n",
       "      <td>2.381686</td>\n",
       "      <td>2.384611</td>\n",
       "    </tr>\n",
       "    <tr>\n",
       "      <th>2</th>\n",
       "      <td>3.436537</td>\n",
       "      <td>3.411618</td>\n",
       "      <td>3.409841</td>\n",
       "      <td>3.406400</td>\n",
       "      <td>3.399702</td>\n",
       "      <td>3.642035</td>\n",
       "      <td>3.347144</td>\n",
       "      <td>3.434613</td>\n",
       "      <td>3.454782</td>\n",
       "      <td>3.878186</td>\n",
       "      <td>...</td>\n",
       "      <td>3.491915</td>\n",
       "      <td>3.489365</td>\n",
       "      <td>3.492014</td>\n",
       "      <td>3.493339</td>\n",
       "      <td>3.492933</td>\n",
       "      <td>3.490642</td>\n",
       "      <td>3.491129</td>\n",
       "      <td>3.484625</td>\n",
       "      <td>3.495699</td>\n",
       "      <td>3.491600</td>\n",
       "    </tr>\n",
       "    <tr>\n",
       "      <th>3</th>\n",
       "      <td>3.493819</td>\n",
       "      <td>3.735619</td>\n",
       "      <td>3.551900</td>\n",
       "      <td>3.590684</td>\n",
       "      <td>3.534629</td>\n",
       "      <td>3.588045</td>\n",
       "      <td>3.621115</td>\n",
       "      <td>3.554101</td>\n",
       "      <td>3.624583</td>\n",
       "      <td>3.683466</td>\n",
       "      <td>...</td>\n",
       "      <td>3.570105</td>\n",
       "      <td>3.570043</td>\n",
       "      <td>3.570494</td>\n",
       "      <td>3.573144</td>\n",
       "      <td>3.572251</td>\n",
       "      <td>3.565702</td>\n",
       "      <td>3.567453</td>\n",
       "      <td>3.578814</td>\n",
       "      <td>3.564857</td>\n",
       "      <td>3.569159</td>\n",
       "    </tr>\n",
       "    <tr>\n",
       "      <th>4</th>\n",
       "      <td>4.349558</td>\n",
       "      <td>4.346539</td>\n",
       "      <td>4.441944</td>\n",
       "      <td>4.375084</td>\n",
       "      <td>4.387059</td>\n",
       "      <td>4.390737</td>\n",
       "      <td>4.431066</td>\n",
       "      <td>4.386004</td>\n",
       "      <td>4.394200</td>\n",
       "      <td>3.865731</td>\n",
       "      <td>...</td>\n",
       "      <td>4.388319</td>\n",
       "      <td>4.389959</td>\n",
       "      <td>4.388693</td>\n",
       "      <td>4.389374</td>\n",
       "      <td>4.389152</td>\n",
       "      <td>4.387696</td>\n",
       "      <td>4.388034</td>\n",
       "      <td>4.392103</td>\n",
       "      <td>4.386599</td>\n",
       "      <td>4.388925</td>\n",
       "    </tr>\n",
       "    <tr>\n",
       "      <th>5</th>\n",
       "      <td>3.890137</td>\n",
       "      <td>3.951271</td>\n",
       "      <td>4.017090</td>\n",
       "      <td>3.956674</td>\n",
       "      <td>3.916179</td>\n",
       "      <td>3.813446</td>\n",
       "      <td>3.952294</td>\n",
       "      <td>3.959433</td>\n",
       "      <td>3.945590</td>\n",
       "      <td>4.103411</td>\n",
       "      <td>...</td>\n",
       "      <td>3.943673</td>\n",
       "      <td>3.954294</td>\n",
       "      <td>3.944152</td>\n",
       "      <td>3.940529</td>\n",
       "      <td>3.941565</td>\n",
       "      <td>3.943302</td>\n",
       "      <td>3.945377</td>\n",
       "      <td>3.931016</td>\n",
       "      <td>3.951734</td>\n",
       "      <td>3.945831</td>\n",
       "    </tr>\n",
       "  </tbody>\n",
       "</table>\n",
       "<p>5 rows × 8410 columns</p>\n",
       "</div>"
      ],
      "text/plain": [
       "     1         2         3         4         5         6         7        \n",
       "1  2.366435  2.313420  2.436901  2.378410  2.380757  2.377249  2.386754  \\\n",
       "2  3.436537  3.411618  3.409841  3.406400  3.399702  3.642035  3.347144   \n",
       "3  3.493819  3.735619  3.551900  3.590684  3.534629  3.588045  3.621115   \n",
       "4  4.349558  4.346539  4.441944  4.375084  4.387059  4.390737  4.431066   \n",
       "5  3.890137  3.951271  4.017090  3.956674  3.916179  3.813446  3.952294   \n",
       "\n",
       "     8         9         10      ...    161084    161155    161594    161830   \n",
       "1  2.376033  2.381921  2.354715  ...  2.381098  2.383131  2.383605  2.382094  \\\n",
       "2  3.434613  3.454782  3.878186  ...  3.491915  3.489365  3.492014  3.493339   \n",
       "3  3.554101  3.624583  3.683466  ...  3.570105  3.570043  3.570494  3.573144   \n",
       "4  4.386004  4.394200  3.865731  ...  4.388319  4.389959  4.388693  4.389374   \n",
       "5  3.959433  3.945590  4.103411  ...  3.943673  3.954294  3.944152  3.940529   \n",
       "\n",
       "     161918    161944    162376    162542    162672    163949  \n",
       "1  2.382163  2.382975  2.378362  2.383582  2.381686  2.384611  \n",
       "2  3.492933  3.490642  3.491129  3.484625  3.495699  3.491600  \n",
       "3  3.572251  3.565702  3.567453  3.578814  3.564857  3.569159  \n",
       "4  4.389152  4.387696  4.388034  4.392103  4.386599  4.388925  \n",
       "5  3.941565  3.943302  3.945377  3.931016  3.951734  3.945831  \n",
       "\n",
       "[5 rows x 8410 columns]"
      ]
     },
     "execution_count": 13,
     "metadata": {},
     "output_type": "execute_result"
    }
   ],
   "source": [
    "user_prediction_result_df.head()"
   ]
  },
  {
   "cell_type": "code",
   "execution_count": 14,
   "metadata": {},
   "outputs": [
    {
     "data": {
      "text/html": [
       "<div>\n",
       "<style scoped>\n",
       "    .dataframe tbody tr th:only-of-type {\n",
       "        vertical-align: middle;\n",
       "    }\n",
       "\n",
       "    .dataframe tbody tr th {\n",
       "        vertical-align: top;\n",
       "    }\n",
       "\n",
       "    .dataframe thead th {\n",
       "        text-align: right;\n",
       "    }\n",
       "</style>\n",
       "<table border=\"1\" class=\"dataframe\">\n",
       "  <thead>\n",
       "    <tr style=\"text-align: right;\">\n",
       "      <th></th>\n",
       "      <th>userId</th>\n",
       "      <th>movieId</th>\n",
       "      <th>pred_ratings</th>\n",
       "    </tr>\n",
       "  </thead>\n",
       "  <tbody>\n",
       "    <tr>\n",
       "      <th>0</th>\n",
       "      <td>1</td>\n",
       "      <td>1</td>\n",
       "      <td>3.966821</td>\n",
       "    </tr>\n",
       "    <tr>\n",
       "      <th>1</th>\n",
       "      <td>1</td>\n",
       "      <td>2</td>\n",
       "      <td>3.304887</td>\n",
       "    </tr>\n",
       "    <tr>\n",
       "      <th>2</th>\n",
       "      <td>1</td>\n",
       "      <td>3</td>\n",
       "      <td>3.150009</td>\n",
       "    </tr>\n",
       "    <tr>\n",
       "      <th>3</th>\n",
       "      <td>1</td>\n",
       "      <td>4</td>\n",
       "      <td>2.568517</td>\n",
       "    </tr>\n",
       "    <tr>\n",
       "      <th>4</th>\n",
       "      <td>1</td>\n",
       "      <td>5</td>\n",
       "      <td>3.368523</td>\n",
       "    </tr>\n",
       "  </tbody>\n",
       "</table>\n",
       "</div>"
      ],
      "text/plain": [
       "   userId  movieId  pred_ratings\n",
       "0       1        1      3.966821\n",
       "1       1        2      3.304887\n",
       "2       1        3      3.150009\n",
       "3       1        4      2.568517\n",
       "4       1        5      3.368523"
      ]
     },
     "execution_count": 14,
     "metadata": {},
     "output_type": "execute_result"
    }
   ],
   "source": [
    "item_pred_df = movie_prediction_result_df.stack().reset_index() \n",
    "item_pred_df.columns = ['userId','movieId','pred_ratings']\n",
    "item_pred_df.head()"
   ]
  },
  {
   "cell_type": "code",
   "execution_count": 15,
   "metadata": {},
   "outputs": [
    {
     "data": {
      "text/html": [
       "<div>\n",
       "<style scoped>\n",
       "    .dataframe tbody tr th:only-of-type {\n",
       "        vertical-align: middle;\n",
       "    }\n",
       "\n",
       "    .dataframe tbody tr th {\n",
       "        vertical-align: top;\n",
       "    }\n",
       "\n",
       "    .dataframe thead th {\n",
       "        text-align: right;\n",
       "    }\n",
       "</style>\n",
       "<table border=\"1\" class=\"dataframe\">\n",
       "  <thead>\n",
       "    <tr style=\"text-align: right;\">\n",
       "      <th></th>\n",
       "      <th>userId</th>\n",
       "      <th>movieId</th>\n",
       "      <th>pred_ratings</th>\n",
       "    </tr>\n",
       "  </thead>\n",
       "  <tbody>\n",
       "    <tr>\n",
       "      <th>0</th>\n",
       "      <td>1</td>\n",
       "      <td>1</td>\n",
       "      <td>2.366435</td>\n",
       "    </tr>\n",
       "    <tr>\n",
       "      <th>1</th>\n",
       "      <td>1</td>\n",
       "      <td>2</td>\n",
       "      <td>2.313420</td>\n",
       "    </tr>\n",
       "    <tr>\n",
       "      <th>2</th>\n",
       "      <td>1</td>\n",
       "      <td>3</td>\n",
       "      <td>2.436901</td>\n",
       "    </tr>\n",
       "    <tr>\n",
       "      <th>3</th>\n",
       "      <td>1</td>\n",
       "      <td>4</td>\n",
       "      <td>2.378410</td>\n",
       "    </tr>\n",
       "    <tr>\n",
       "      <th>4</th>\n",
       "      <td>1</td>\n",
       "      <td>5</td>\n",
       "      <td>2.380757</td>\n",
       "    </tr>\n",
       "  </tbody>\n",
       "</table>\n",
       "</div>"
      ],
      "text/plain": [
       "   userId  movieId  pred_ratings\n",
       "0       1        1      2.366435\n",
       "1       1        2      2.313420\n",
       "2       1        3      2.436901\n",
       "3       1        4      2.378410\n",
       "4       1        5      2.380757"
      ]
     },
     "execution_count": 15,
     "metadata": {},
     "output_type": "execute_result"
    }
   ],
   "source": [
    "user_pred_df = user_prediction_result_df.stack().reset_index() \n",
    "user_pred_df.columns = ['userId','movieId','pred_ratings']\n",
    "user_pred_df.head()"
   ]
  },
  {
   "cell_type": "code",
   "execution_count": 16,
   "metadata": {},
   "outputs": [],
   "source": [
    "test_df = test_df.reset_index()\n",
    "user_based_result = pd.merge(test_df, user_pred_df, on=['userId','movieId'], how='left')\n",
    "item_based_result = pd.merge(test_df, item_pred_df, on=['userId','movieId'], how='left')"
   ]
  },
  {
   "cell_type": "code",
   "execution_count": 17,
   "metadata": {},
   "outputs": [],
   "source": [
    "user_based_result = user_based_result.dropna() \n",
    "item_based_result = item_based_result.dropna()"
   ]
  },
  {
   "cell_type": "code",
   "execution_count": 18,
   "metadata": {},
   "outputs": [
    {
     "name": "stdout",
     "output_type": "stream",
     "text": [
      "filled average user rating  0.9663666141482012\n",
      "filled average item rating  0.9922195476811708\n"
     ]
    }
   ],
   "source": [
    "print('filled average user rating ',sqrt(mean_squared_error(user_based_result['rating'].values, user_based_result['pred_ratings'].values)))\n",
    "print('filled average item rating ',sqrt(mean_squared_error(item_based_result['rating'].values, item_based_result['pred_ratings'].values)))"
   ]
  },
  {
   "cell_type": "code",
   "execution_count": 19,
   "metadata": {},
   "outputs": [],
   "source": [
    "# define evaluation function\n",
    "def eval_pred_result(prediction_full_matrix):\n",
    "    stack_results = prediction_full_matrix.stack().reset_index()\n",
    "    stack_results.columns = ['userId','movieId','pred_ratings']\n",
    "    result_df = pd.merge(test_df, stack_results, on=['userId','movieId'], how='left').dropna()\n",
    "    rmse = sqrt(mean_squared_error(result_df['rating'].values, result_df['pred_ratings'].values))\n",
    "    return result_df, rmse"
   ]
  },
  {
   "attachments": {},
   "cell_type": "markdown",
   "metadata": {},
   "source": [
    "### Expriments on different k value"
   ]
  },
  {
   "cell_type": "code",
   "execution_count": 20,
   "metadata": {},
   "outputs": [],
   "source": [
    "def search_best_k(sparse_matrix, min_k = 20, max_k = 100):\n",
    "    range_k = np.arange(min_k, max_k, 10)\n",
    "    eval_result_df = pd.DataFrame(columns=['rmse'], index=range_k)\n",
    "    for k in tqdm(range_k):\n",
    "        item_factors, user_factors = get_svd(sparse_matrix, k)\n",
    "        k_results_matrix = pd.DataFrame(np.matmul(item_factors, user_factors),\n",
    "                                    columns=sparse_matrix.columns.values, index=sparse_matrix.index.values).transpose()\n",
    "        pred_df, rmse_ = eval_pred_result(k_results_matrix)\n",
    "        eval_result_df.loc[k, 'rmse'] = rmse_\n",
    "        best_pred_df = pred_df\n",
    "\n",
    "        if k > min_k:\n",
    "            if eval_result_df.loc[k-10, 'rmse'] < rmse_:\n",
    "                best_pred_df = pred_df\n",
    "\n",
    "    return best_pred_df, eval_result_df"
   ]
  },
  {
   "cell_type": "code",
   "execution_count": 21,
   "metadata": {},
   "outputs": [
    {
     "name": "stderr",
     "output_type": "stream",
     "text": [
      "/var/folders/1l/w3vzbf215cs4ll30rh71l7wr6ghggx/T/ipykernel_6191/3039461911.py:4: TqdmDeprecationWarning: This function will be removed in tqdm==5.0.0\n",
      "Please use `tqdm.notebook.tqdm` instead of `tqdm.tqdm_notebook`\n",
      "  for k in tqdm(range_k):\n"
     ]
    },
    {
     "data": {
      "application/vnd.jupyter.widget-view+json": {
       "model_id": "434d6ae4c4be4ecfb221f46c30895a11",
       "version_major": 2,
       "version_minor": 0
      },
      "text/plain": [
       "  0%|          | 0/8 [00:00<?, ?it/s]"
      ]
     },
     "metadata": {},
     "output_type": "display_data"
    }
   ],
   "source": [
    "best_pred_df, eval_result_df = search_best_k(sparse_matrix_withmovie, min_k = 20, max_k = 100)"
   ]
  },
  {
   "cell_type": "code",
   "execution_count": 22,
   "metadata": {},
   "outputs": [
    {
     "data": {
      "text/html": [
       "<div>\n",
       "<style scoped>\n",
       "    .dataframe tbody tr th:only-of-type {\n",
       "        vertical-align: middle;\n",
       "    }\n",
       "\n",
       "    .dataframe tbody tr th {\n",
       "        vertical-align: top;\n",
       "    }\n",
       "\n",
       "    .dataframe thead th {\n",
       "        text-align: right;\n",
       "    }\n",
       "</style>\n",
       "<table border=\"1\" class=\"dataframe\">\n",
       "  <thead>\n",
       "    <tr style=\"text-align: right;\">\n",
       "      <th></th>\n",
       "      <th>rmse</th>\n",
       "    </tr>\n",
       "  </thead>\n",
       "  <tbody>\n",
       "    <tr>\n",
       "      <th>20</th>\n",
       "      <td>0.973615</td>\n",
       "    </tr>\n",
       "    <tr>\n",
       "      <th>30</th>\n",
       "      <td>0.97525</td>\n",
       "    </tr>\n",
       "    <tr>\n",
       "      <th>40</th>\n",
       "      <td>0.97561</td>\n",
       "    </tr>\n",
       "    <tr>\n",
       "      <th>50</th>\n",
       "      <td>0.976408</td>\n",
       "    </tr>\n",
       "    <tr>\n",
       "      <th>60</th>\n",
       "      <td>0.97742</td>\n",
       "    </tr>\n",
       "    <tr>\n",
       "      <th>70</th>\n",
       "      <td>0.978807</td>\n",
       "    </tr>\n",
       "    <tr>\n",
       "      <th>80</th>\n",
       "      <td>0.980113</td>\n",
       "    </tr>\n",
       "    <tr>\n",
       "      <th>90</th>\n",
       "      <td>0.980995</td>\n",
       "    </tr>\n",
       "  </tbody>\n",
       "</table>\n",
       "</div>"
      ],
      "text/plain": [
       "        rmse\n",
       "20  0.973615\n",
       "30   0.97525\n",
       "40   0.97561\n",
       "50  0.976408\n",
       "60   0.97742\n",
       "70  0.978807\n",
       "80  0.980113\n",
       "90  0.980995"
      ]
     },
     "execution_count": 22,
     "metadata": {},
     "output_type": "execute_result"
    }
   ],
   "source": [
    "eval_result_df"
   ]
  },
  {
   "cell_type": "code",
   "execution_count": 23,
   "metadata": {},
   "outputs": [
    {
     "data": {
      "text/html": [
       "<div>\n",
       "<style scoped>\n",
       "    .dataframe tbody tr th:only-of-type {\n",
       "        vertical-align: middle;\n",
       "    }\n",
       "\n",
       "    .dataframe tbody tr th {\n",
       "        vertical-align: top;\n",
       "    }\n",
       "\n",
       "    .dataframe thead th {\n",
       "        text-align: right;\n",
       "    }\n",
       "</style>\n",
       "<table border=\"1\" class=\"dataframe\">\n",
       "  <thead>\n",
       "    <tr style=\"text-align: right;\">\n",
       "      <th></th>\n",
       "      <th>index</th>\n",
       "      <th>userId</th>\n",
       "      <th>movieId</th>\n",
       "      <th>rating</th>\n",
       "      <th>timestamp</th>\n",
       "      <th>pred_ratings</th>\n",
       "    </tr>\n",
       "  </thead>\n",
       "  <tbody>\n",
       "    <tr>\n",
       "      <th>0</th>\n",
       "      <td>4241</td>\n",
       "      <td>23</td>\n",
       "      <td>1625</td>\n",
       "      <td>4.5</td>\n",
       "      <td>1148671498</td>\n",
       "      <td>4.090757</td>\n",
       "    </tr>\n",
       "    <tr>\n",
       "      <th>1</th>\n",
       "      <td>84223</td>\n",
       "      <td>564</td>\n",
       "      <td>2801</td>\n",
       "      <td>3.0</td>\n",
       "      <td>974716060</td>\n",
       "      <td>4.509458</td>\n",
       "    </tr>\n",
       "    <tr>\n",
       "      <th>2</th>\n",
       "      <td>99408</td>\n",
       "      <td>665</td>\n",
       "      <td>1541</td>\n",
       "      <td>3.0</td>\n",
       "      <td>995232789</td>\n",
       "      <td>2.900207</td>\n",
       "    </tr>\n",
       "    <tr>\n",
       "      <th>3</th>\n",
       "      <td>85520</td>\n",
       "      <td>574</td>\n",
       "      <td>49530</td>\n",
       "      <td>4.0</td>\n",
       "      <td>1232810927</td>\n",
       "      <td>4.055198</td>\n",
       "    </tr>\n",
       "    <tr>\n",
       "      <th>4</th>\n",
       "      <td>67363</td>\n",
       "      <td>472</td>\n",
       "      <td>841</td>\n",
       "      <td>4.0</td>\n",
       "      <td>1006929182</td>\n",
       "      <td>3.713173</td>\n",
       "    </tr>\n",
       "  </tbody>\n",
       "</table>\n",
       "</div>"
      ],
      "text/plain": [
       "   index  userId  movieId  rating   timestamp  pred_ratings\n",
       "0   4241      23     1625     4.5  1148671498      4.090757\n",
       "1  84223     564     2801     3.0   974716060      4.509458\n",
       "2  99408     665     1541     3.0   995232789      2.900207\n",
       "3  85520     574    49530     4.0  1232810927      4.055198\n",
       "4  67363     472      841     4.0  1006929182      3.713173"
      ]
     },
     "execution_count": 23,
     "metadata": {},
     "output_type": "execute_result"
    }
   ],
   "source": [
    "best_pred_df.head()"
   ]
  },
  {
   "attachments": {},
   "cell_type": "markdown",
   "metadata": {},
   "source": [
    "### Surprise package"
   ]
  },
  {
   "cell_type": "code",
   "execution_count": 29,
   "metadata": {},
   "outputs": [],
   "source": [
    "from surprise import Reader, Dataset, SVDpp, BaselineOnly\n",
    "from surprise.model_selection import train_test_split\n",
    "from surprise import accuracy"
   ]
  },
  {
   "cell_type": "code",
   "execution_count": 25,
   "metadata": {},
   "outputs": [
    {
     "data": {
      "text/plain": [
       "count    100004.000000\n",
       "mean          3.543608\n",
       "std           1.058064\n",
       "min           0.500000\n",
       "25%           3.000000\n",
       "50%           4.000000\n",
       "75%           4.000000\n",
       "max           5.000000\n",
       "Name: rating, dtype: float64"
      ]
     },
     "execution_count": 25,
     "metadata": {},
     "output_type": "execute_result"
    }
   ],
   "source": [
    "ratings_df['rating'].describe()"
   ]
  },
  {
   "cell_type": "code",
   "execution_count": 26,
   "metadata": {},
   "outputs": [],
   "source": [
    "reader = Reader(rating_scale=(0.5, 5.0))\n",
    "data = Dataset.load_from_df(ratings_df[['userId', 'movieId', 'rating']], reader)\n",
    "train_set, test_set = train_test_split(data, test_size=0.2, random_state=123)"
   ]
  },
  {
   "cell_type": "code",
   "execution_count": 27,
   "metadata": {},
   "outputs": [
    {
     "data": {
      "text/plain": [
       "<surprise.prediction_algorithms.matrix_factorization.SVDpp at 0x105ecb9a0>"
      ]
     },
     "execution_count": 27,
     "metadata": {},
     "output_type": "execute_result"
    }
   ],
   "source": [
    "model = SVDpp()\n",
    "model.fit(train_set)"
   ]
  },
  {
   "cell_type": "code",
   "execution_count": 28,
   "metadata": {},
   "outputs": [
    {
     "name": "stdout",
     "output_type": "stream",
     "text": [
      "RMSE: 0.8875\n",
      "RMSE (SVD++) :: 0.8874896245401949\n"
     ]
    }
   ],
   "source": [
    "predictions = model.test(test_set)\n",
    "rmse = accuracy.rmse(predictions)\n",
    "print('RMSE (SVD++) ::', rmse)"
   ]
  },
  {
   "cell_type": "code",
   "execution_count": 30,
   "metadata": {},
   "outputs": [
    {
     "name": "stdout",
     "output_type": "stream",
     "text": [
      "Estimating biases using als...\n"
     ]
    },
    {
     "data": {
      "text/plain": [
       "<surprise.prediction_algorithms.baseline_only.BaselineOnly at 0x1579dbc10>"
      ]
     },
     "execution_count": 30,
     "metadata": {},
     "output_type": "execute_result"
    }
   ],
   "source": [
    "bsl_options = {\n",
    "    'method': 'als',\n",
    "    'n_epochs': 5,\n",
    "    'reg_u': 12,\n",
    "    'reg_i': 5\n",
    "}\n",
    "model2 = BaselineOnly(bsl_options)\n",
    "model2.fit(train_set)"
   ]
  },
  {
   "cell_type": "code",
   "execution_count": 31,
   "metadata": {},
   "outputs": [
    {
     "name": "stdout",
     "output_type": "stream",
     "text": [
      "RMSE: 0.8866\n",
      "RMSE (ALS) :: 0.886561635531417\n"
     ]
    }
   ],
   "source": [
    "predictions = model2.test(test_set)\n",
    "rmse = accuracy.rmse(predictions)\n",
    "print('RMSE (ALS) ::', rmse)"
   ]
  },
  {
   "attachments": {
    "image.png": {
     "image/png": "[encoded data removed]"
    }
   },
   "cell_type": "markdown",
   "metadata": {},
   "source": [
    "![image.png](attachment:image.png)\n",
    "(출처 : https://danthetech.netlify.app/DataScience/how-does-recommendation-algorithms-work-using-surpriselib)"
   ]
  },
  {
   "cell_type": "code",
   "execution_count": null,
   "metadata": {},
   "outputs": [],
   "source": []
  }
 ],
 "metadata": {
  "kernelspec": {
   "display_name": "bqpython",
   "language": "python",
   "name": "bq_python"
  },
  "language_info": {
   "codemirror_mode": {
    "name": "ipython",
    "version": 3
   },
   "file_extension": ".py",
   "mimetype": "text/x-python",
   "name": "python",
   "nbconvert_exporter": "python",
   "pygments_lexer": "ipython3",
   "version": "3.10.10"
  },
  "orig_nbformat": 4
 },
 "nbformat": 4,
 "nbformat_minor": 2
}
