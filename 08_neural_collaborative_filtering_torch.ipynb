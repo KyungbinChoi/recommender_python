{
 "cells": [
  {
   "attachments": {},
   "cell_type": "markdown",
   "metadata": {},
   "source": [
    "## Neural Collaborative Filtering\n",
    "* Pytorch version\n",
    "* rating prediction (korean movie recommendation dataset)"
   ]
  },
  {
   "cell_type": "code",
   "execution_count": 1,
   "metadata": {},
   "outputs": [],
   "source": [
    "import os\n",
    "import pandas as pd\n",
    "import numpy as np\n",
    "from matplotlib import pyplot as plt\n",
    "from sklearn.model_selection import train_test_split\n",
    "\n",
    "import math\n",
    "from torch import nn, optim\n",
    "import torch\n",
    "import torch.nn.functional as F\n",
    "from torch.autograd import Variable\n",
    "\n",
    "from tqdm import tqdm\n",
    "import warnings\n",
    "warnings.filterwarnings(\"ignore\")"
   ]
  },
  {
   "cell_type": "code",
   "execution_count": 2,
   "metadata": {},
   "outputs": [
    {
     "data": {
      "text/html": [
       "<div>\n",
       "<style scoped>\n",
       "    .dataframe tbody tr th:only-of-type {\n",
       "        vertical-align: middle;\n",
       "    }\n",
       "\n",
       "    .dataframe tbody tr th {\n",
       "        vertical-align: top;\n",
       "    }\n",
       "\n",
       "    .dataframe thead th {\n",
       "        text-align: right;\n",
       "    }\n",
       "</style>\n",
       "<table border=\"1\" class=\"dataframe\">\n",
       "  <thead>\n",
       "    <tr style=\"text-align: right;\">\n",
       "      <th></th>\n",
       "      <th>userId</th>\n",
       "      <th>movieId</th>\n",
       "      <th>rating</th>\n",
       "      <th>time</th>\n",
       "    </tr>\n",
       "  </thead>\n",
       "  <tbody>\n",
       "    <tr>\n",
       "      <th>0</th>\n",
       "      <td>0</td>\n",
       "      <td>10003</td>\n",
       "      <td>7</td>\n",
       "      <td>1494128040</td>\n",
       "    </tr>\n",
       "    <tr>\n",
       "      <th>1</th>\n",
       "      <td>0</td>\n",
       "      <td>10004</td>\n",
       "      <td>7</td>\n",
       "      <td>1467529800</td>\n",
       "    </tr>\n",
       "    <tr>\n",
       "      <th>2</th>\n",
       "      <td>0</td>\n",
       "      <td>10018</td>\n",
       "      <td>9</td>\n",
       "      <td>1513344120</td>\n",
       "    </tr>\n",
       "    <tr>\n",
       "      <th>3</th>\n",
       "      <td>0</td>\n",
       "      <td>10021</td>\n",
       "      <td>9</td>\n",
       "      <td>1424497980</td>\n",
       "    </tr>\n",
       "    <tr>\n",
       "      <th>4</th>\n",
       "      <td>0</td>\n",
       "      <td>10022</td>\n",
       "      <td>7</td>\n",
       "      <td>1427627340</td>\n",
       "    </tr>\n",
       "  </tbody>\n",
       "</table>\n",
       "</div>"
      ],
      "text/plain": [
       "   userId  movieId  rating        time\n",
       "0       0    10003       7  1494128040\n",
       "1       0    10004       7  1467529800\n",
       "2       0    10018       9  1513344120\n",
       "3       0    10021       9  1424497980\n",
       "4       0    10022       7  1427627340"
      ]
     },
     "execution_count": 2,
     "metadata": {},
     "output_type": "execute_result"
    }
   ],
   "source": [
    "path = './kmrd/kmr_dataset/datafile/kmrd-small/'\n",
    "df = pd.read_csv(path + 'rates.csv')\n",
    "df.columns = ['userId','movieId','rating','time']\n",
    "df.head()"
   ]
  },
  {
   "cell_type": "code",
   "execution_count": 3,
   "metadata": {},
   "outputs": [],
   "source": [
    "train_df , val_df = train_test_split(df, test_size=0.2, random_state=123)"
   ]
  },
  {
   "cell_type": "code",
   "execution_count": 4,
   "metadata": {},
   "outputs": [
    {
     "name": "stdout",
     "output_type": "stream",
     "text": [
      "(112568, 4)\n",
      "(28142, 4)\n"
     ]
    }
   ],
   "source": [
    "print(train_df.shape)\n",
    "print(val_df.shape)"
   ]
  },
  {
   "cell_type": "code",
   "execution_count": 5,
   "metadata": {},
   "outputs": [
    {
     "data": {
      "text/plain": [
       "count    112568.000000\n",
       "mean          8.952820\n",
       "std           2.103876\n",
       "min           1.000000\n",
       "25%           9.000000\n",
       "50%          10.000000\n",
       "75%          10.000000\n",
       "max          10.000000\n",
       "Name: rating, dtype: float64"
      ]
     },
     "execution_count": 5,
     "metadata": {},
     "output_type": "execute_result"
    }
   ],
   "source": [
    "train_df['rating'].describe()"
   ]
  },
  {
   "cell_type": "code",
   "execution_count": 6,
   "metadata": {},
   "outputs": [
    {
     "data": {
      "text/html": [
       "<div>\n",
       "<style scoped>\n",
       "    .dataframe tbody tr th:only-of-type {\n",
       "        vertical-align: middle;\n",
       "    }\n",
       "\n",
       "    .dataframe tbody tr th {\n",
       "        vertical-align: top;\n",
       "    }\n",
       "\n",
       "    .dataframe thead th {\n",
       "        text-align: right;\n",
       "    }\n",
       "</style>\n",
       "<table border=\"1\" class=\"dataframe\">\n",
       "  <thead>\n",
       "    <tr style=\"text-align: right;\">\n",
       "      <th></th>\n",
       "      <th>movie</th>\n",
       "      <th>title</th>\n",
       "      <th>title_eng</th>\n",
       "      <th>year</th>\n",
       "      <th>grade</th>\n",
       "      <th>genres</th>\n",
       "      <th>people</th>\n",
       "    </tr>\n",
       "  </thead>\n",
       "  <tbody>\n",
       "    <tr>\n",
       "      <th>0</th>\n",
       "      <td>10001</td>\n",
       "      <td>시네마 천국</td>\n",
       "      <td>Cinema Paradiso , 1988</td>\n",
       "      <td>2013.0</td>\n",
       "      <td>전체 관람가</td>\n",
       "      <td>드라마/멜로/로맨스</td>\n",
       "      <td>[ 4374   178  3241 47952 47953 19538 18991 479...</td>\n",
       "    </tr>\n",
       "    <tr>\n",
       "      <th>1</th>\n",
       "      <td>10002</td>\n",
       "      <td>빽 투 더 퓨쳐</td>\n",
       "      <td>Back To The Future , 1985</td>\n",
       "      <td>2015.0</td>\n",
       "      <td>12세 관람가</td>\n",
       "      <td>SF/코미디</td>\n",
       "      <td>[1076 4603  917 8637 5104 9986 7470 9987]</td>\n",
       "    </tr>\n",
       "    <tr>\n",
       "      <th>2</th>\n",
       "      <td>10003</td>\n",
       "      <td>빽 투 더 퓨쳐 2</td>\n",
       "      <td>Back To The Future Part 2 , 1989</td>\n",
       "      <td>2015.0</td>\n",
       "      <td>12세 관람가</td>\n",
       "      <td>SF/코미디</td>\n",
       "      <td>[1076 4603  917 5104  391 5106 5105 5107  580 ...</td>\n",
       "    </tr>\n",
       "    <tr>\n",
       "      <th>3</th>\n",
       "      <td>10004</td>\n",
       "      <td>빽 투 더 퓨쳐 3</td>\n",
       "      <td>Back To The Future Part III , 1990</td>\n",
       "      <td>1990.0</td>\n",
       "      <td>전체 관람가</td>\n",
       "      <td>서부/SF/판타지/코미디</td>\n",
       "      <td>[ 1076  4603  1031  5104 10001  5984 10002 100...</td>\n",
       "    </tr>\n",
       "    <tr>\n",
       "      <th>4</th>\n",
       "      <td>10005</td>\n",
       "      <td>스타워즈 에피소드 4 - 새로운 희망</td>\n",
       "      <td>Star Wars , 1977</td>\n",
       "      <td>1997.0</td>\n",
       "      <td>PG</td>\n",
       "      <td>판타지/모험/SF/액션</td>\n",
       "      <td>[1007  535  215 1236   35]</td>\n",
       "    </tr>\n",
       "  </tbody>\n",
       "</table>\n",
       "</div>"
      ],
      "text/plain": [
       "   movie                 title                           title_eng    year  \\\n",
       "0  10001                시네마 천국              Cinema Paradiso , 1988  2013.0   \n",
       "1  10002              빽 투 더 퓨쳐           Back To The Future , 1985  2015.0   \n",
       "2  10003            빽 투 더 퓨쳐 2    Back To The Future Part 2 , 1989  2015.0   \n",
       "3  10004            빽 투 더 퓨쳐 3  Back To The Future Part III , 1990  1990.0   \n",
       "4  10005  스타워즈 에피소드 4 - 새로운 희망                    Star Wars , 1977  1997.0   \n",
       "\n",
       "     grade         genres                                             people  \n",
       "0   전체 관람가     드라마/멜로/로맨스  [ 4374   178  3241 47952 47953 19538 18991 479...  \n",
       "1  12세 관람가         SF/코미디          [1076 4603  917 8637 5104 9986 7470 9987]  \n",
       "2  12세 관람가         SF/코미디  [1076 4603  917 5104  391 5106 5105 5107  580 ...  \n",
       "3   전체 관람가  서부/SF/판타지/코미디  [ 1076  4603  1031  5104 10001  5984 10002 100...  \n",
       "4       PG   판타지/모험/SF/액션                         [1007  535  215 1236   35]  "
      ]
     },
     "execution_count": 6,
     "metadata": {},
     "output_type": "execute_result"
    }
   ],
   "source": [
    "movies_df = pd.read_csv(path+'movie_info.csv')\n",
    "movies_df.head()"
   ]
  },
  {
   "cell_type": "code",
   "execution_count": 7,
   "metadata": {},
   "outputs": [],
   "source": [
    "# Define DataLoader\n",
    "def read_data(data_path):\n",
    "    df = pd.read_csv(os.path.join(data_path,'rates.csv'))\n",
    "    train_df, val_df = train_test_split(df, test_size=0.2, random_state=1234, shuffle=True)\n",
    "    return train_df, val_df\n",
    "\n",
    "\n",
    "class DatasetLoader:\n",
    "    def __init__(self, data_path):\n",
    "        self.train_df, val_temp_df = read_data(data_path)\n",
    "\n",
    "        self.min_rating = min(self.train_df.rate)\n",
    "        self.max_rating = self.train_df.rate.max()\n",
    "\n",
    "        self.unique_users = self.train_df.user.unique()\n",
    "        self.num_users = len(self.unique_users)\n",
    "        self.user_to_index = {original: idx for idx, original in enumerate(self.unique_users)}\n",
    "        # 0 1 0 0 0 ... 0\n",
    "\n",
    "        self.unique_movies = self.train_df.movie.unique()\n",
    "        self.num_movies = len(self.unique_movies)\n",
    "        self.movie_to_index = {original: idx for idx, original in enumerate(self.unique_movies)}\n",
    "\n",
    "        self.val_df = val_temp_df[val_temp_df.user.isin(self.unique_users) & val_temp_df.movie.isin(self.unique_movies)]\n",
    "\n",
    "    def generate_trainset(self):\n",
    "        # user 0, 0, 0, 1,2, 3,3, -> movie: 0,0,0,0,0,0,\n",
    "        X_train = pd.DataFrame({'user': self.train_df.user.map(self.user_to_index),\n",
    "                     'movie': self.train_df.movie.map(self.movie_to_index)})\n",
    "        y_train = self.train_df['rate'].astype(np.float32)\n",
    "\n",
    "        return X_train, y_train\n",
    "\n",
    "    def generate_valset(self):\n",
    "        X_val = pd.DataFrame({'user': self.val_df.user.map(self.user_to_index),\n",
    "                              'movie': self.val_df.movie.map(self.movie_to_index)})\n",
    "        y_val = self.val_df['rate'].astype(np.float32)\n",
    "        return X_val, y_val"
   ]
  },
  {
   "attachments": {},
   "cell_type": "markdown",
   "metadata": {},
   "source": [
    "* User Vector : 전체 영화 데이터에서 영화를 평가한 userid를 onehot vector로 나타낸 형태\n",
    "* Item Vector : 전체 영화 데이터에 등장하는 영화의 id를 onehot vector로 나타낸 형태"
   ]
  },
  {
   "cell_type": "code",
   "execution_count": 8,
   "metadata": {},
   "outputs": [],
   "source": [
    "class FeedForwardEmbedNN(nn.Module):\n",
    "\n",
    "    def __init__(self, n_users, n_movies, hidden, dropouts, n_factors, embedding_dropout):\n",
    "        super().__init__()\n",
    "        self.user_emb = nn.Embedding(n_users, n_factors)\n",
    "        self.movie_emb = nn.Embedding(n_movies, n_factors)\n",
    "        self.drop = nn.Dropout(embedding_dropout)\n",
    "        self.hidden_layers = nn.Sequential(*list(self.generate_layers(n_factors*2, hidden, dropouts)))\n",
    "        self.fc = nn.Linear(hidden[-1], 1)\n",
    "\n",
    "    def generate_layers(self, n_factors, hidden, dropouts):\n",
    "        assert len(dropouts) == len(hidden)\n",
    "\n",
    "        idx = 0\n",
    "        while idx < len(hidden):\n",
    "            if idx == 0:\n",
    "                yield nn.Linear(n_factors, hidden[idx])\n",
    "            else:\n",
    "                yield nn.Linear(hidden[idx-1], hidden[idx])\n",
    "            yield nn.ReLU()\n",
    "            yield nn.Dropout(dropouts[idx])\n",
    "\n",
    "            idx += 1\n",
    "\n",
    "    def forward(self, users, movies, min_rating=0.5, max_rating=5):\n",
    "        concat_features = torch.cat([self.user_emb(users), self.movie_emb(movies)], dim=1)\n",
    "        x = F.relu(self.hidden_layers(concat_features))\n",
    "        # 0과 1사이의 숫자로 나타낸다\n",
    "        out = torch.sigmoid(self.fc(x))\n",
    "        # rating으로 변환한다\n",
    "        out = (out * (max_rating - min_rating)) + min_rating\n",
    "\n",
    "        return out\n",
    "\n",
    "    def predict(self, users, movies):\n",
    "        # return the score\n",
    "        output_scores = self.forward(users, movies)\n",
    "        return output_scores"
   ]
  },
  {
   "cell_type": "code",
   "execution_count": 9,
   "metadata": {},
   "outputs": [],
   "source": [
    "class BatchIterator:\n",
    "\n",
    "    def __init__(self, X, y, batch_size=32, shuffle=True):\n",
    "        X, y = np.asarray(X), np.asarray(y)\n",
    "\n",
    "        if shuffle:\n",
    "            index = np.random.permutation(X.shape[0])\n",
    "            X, y = X[index], y[index]\n",
    "\n",
    "        self.X = X\n",
    "        self.y = y\n",
    "        self.batch_size = batch_size\n",
    "        self.shuffle = shuffle\n",
    "        self.n_batches = int(math.ceil(X.shape[0] // batch_size))\n",
    "        self._current = 0\n",
    "\n",
    "    def __iter__(self):\n",
    "        return self\n",
    "\n",
    "    def __next__(self):\n",
    "        return self.next()\n",
    "\n",
    "    def next(self):\n",
    "        if self._current >= self.n_batches:\n",
    "            raise StopIteration()\n",
    "        k = self._current\n",
    "        self._current += 1\n",
    "        bs = self.batch_size\n",
    "        return self.X[k * bs:(k + 1) * bs], self.y[k * bs:(k + 1) * bs]"
   ]
  },
  {
   "cell_type": "code",
   "execution_count": 10,
   "metadata": {},
   "outputs": [],
   "source": [
    "def batches(X, y, bs=32, shuffle=True):\n",
    "    for x_batch, y_batch in BatchIterator(X, y, bs, shuffle):\n",
    "        x_batch = torch.LongTensor(x_batch)\n",
    "        y_batch = torch.FloatTensor(y_batch)\n",
    "        yield x_batch, y_batch.view(-1, 1)"
   ]
  },
  {
   "attachments": {},
   "cell_type": "markdown",
   "metadata": {},
   "source": [
    "* 데이터셋과 모델 학습에 필요한 configuration을 입력하고, 학습을 하는 함수 정의\n",
    "    * configuration을 바꾸면서 모델의 성능을 측정해볼 수 있다."
   ]
  },
  {
   "cell_type": "code",
   "execution_count": 11,
   "metadata": {},
   "outputs": [],
   "source": [
    "def model_train(ds, config):\n",
    "    device = torch.device('mps' if torch.mps.is_available() else 'cpu')\n",
    "\n",
    "    X_train, y_train = ds.generate_trainset()\n",
    "    X_valid, y_valid = ds.generate_valset()\n",
    "    print(f'TrainSet Info: {ds.num_users} users, {ds.num_movies} movies')\n",
    "\n",
    "    model = FeedForwardEmbedNN(\n",
    "        n_users=ds.num_users, n_movies=ds.num_movies,\n",
    "        n_factors=config['num_factors'], hidden=config['hidden_layers'],\n",
    "        embedding_dropout=config['embedding_dropout'], dropouts=config['dropouts']\n",
    "    )\n",
    "    model.to(device)\n",
    "\n",
    "    batch_size = config['batch_size']\n",
    "    num_epochs = config['num_epochs']\n",
    "    max_patience = config['total_patience']\n",
    "    num_patience = 0\n",
    "    best_loss = np.inf\n",
    "\n",
    "    criterion = nn.MSELoss(reduction='sum')\n",
    "    criterion.to(device)\n",
    "    optimizer = optim.Adam(model.parameters(), lr=config['learning_rate'], weight_decay=config['weight_decay'])\n",
    "\n",
    "    result = dict()\n",
    "    for epoch in tqdm(range(num_epochs)):\n",
    "        training_loss = 0.0\n",
    "        for batch in batches(X_train, y_train, shuffle=True, bs=batch_size):\n",
    "            x_batch, y_batch = [b.to(device) for b in batch]\n",
    "            optimizer.zero_grad()\n",
    "            # with torch.no_grad() 와 동일한 syntax 입니다\n",
    "            with torch.set_grad_enabled(True):\n",
    "                outputs = model(x_batch[:, 0], x_batch[:, 1], ds.min_rating, ds.max_rating)\n",
    "                loss = criterion(outputs, y_batch)\n",
    "                loss.backward()\n",
    "                optimizer.step()\n",
    "            training_loss += loss.item()\n",
    "        result['train'] = training_loss / len(X_train)\n",
    "\n",
    "        # Apply Early Stopping criteria and save best model params\n",
    "        val_outputs = model(torch.LongTensor(X_valid.user.values).to(device),\n",
    "                            torch.LongTensor(X_valid.movie.values).to(device), ds.min_rating, ds.max_rating)\n",
    "        val_loss = criterion(val_outputs.to(device), torch.FloatTensor(y_valid.values).view(-1, 1).to(device))\n",
    "        result['val'] = float((val_loss / len(X_valid)).data)\n",
    "\n",
    "        if val_loss < best_loss:\n",
    "            print('Save new model on epoch: %d' % (epoch + 1))\n",
    "            best_loss = val_loss\n",
    "            result['best_loss'] = val_loss\n",
    "            torch.save(model.state_dict(), config['save_path'])\n",
    "            num_patience = 0\n",
    "        else:\n",
    "            num_patience += 1\n",
    "\n",
    "        print(f'[epoch: {epoch+1}] train: {result[\"train\"]} - val: {result[\"val\"]}')\n",
    "\n",
    "        if num_patience >= max_patience:\n",
    "            print(f\"Early Stopped after epoch {epoch+1}\")\n",
    "            break\n",
    "\n",
    "    return result"
   ]
  },
  {
   "cell_type": "code",
   "execution_count": 15,
   "metadata": {},
   "outputs": [],
   "source": [
    "config = {\n",
    "  \"num_factors\": 50,\n",
    "  \"hidden_layers\": [64, 32, 16],\n",
    "  \"embedding_dropout\": 0.05,\n",
    "  \"dropouts\": [0.3, 0.3, 0.3],\n",
    "  \"learning_rate\": 1e-3,\n",
    "  \"weight_decay\": 1e-5,\n",
    "  \"batch_size\": 64,\n",
    "  \"num_epochs\": 12,\n",
    "  \"total_patience\": 5,\n",
    "  \"save_path\": \"params.data\"\n",
    "}"
   ]
  },
  {
   "cell_type": "code",
   "execution_count": 16,
   "metadata": {},
   "outputs": [],
   "source": [
    "def model_valid(user_id_list, movie_id_list, data_path):\n",
    "    dataset = DatasetLoader(data_path)\n",
    "    processed_test_input_df = pd.DataFrame({\n",
    "        'user_id': [dataset.user_to_index[x] for x in user_id_list],\n",
    "        'movie_id': [dataset.movie_to_index[x] for x in movie_id_list]\n",
    "    })\n",
    "\n",
    "    # 학습한 모델 load하기 \n",
    "    my_model = FeedForwardEmbedNN(dataset.num_users, dataset.num_movies,\n",
    "                       config['hidden_layers'], config['dropouts'], config['num_factors'], config['embedding_dropout'])\n",
    "    my_model.load_state_dict(torch.load('params.data'))\n",
    "    prediction_outputs = my_model.predict(users=torch.LongTensor(processed_test_input_df.user_id.values),\n",
    "                     movies=torch.LongTensor(processed_test_input_df.movie_id.values))\n",
    "\n",
    "    return prediction_outputs"
   ]
  },
  {
   "cell_type": "code",
   "execution_count": 17,
   "metadata": {},
   "outputs": [],
   "source": [
    "dataset = DatasetLoader(path)"
   ]
  },
  {
   "cell_type": "code",
   "execution_count": 18,
   "metadata": {},
   "outputs": [
    {
     "name": "stdout",
     "output_type": "stream",
     "text": [
      "TrainSet Info: 44453 users, 597 movies\n"
     ]
    },
    {
     "name": "stderr",
     "output_type": "stream",
     "text": [
      "  8%|▊         | 1/12 [00:11<02:01, 11.01s/it]"
     ]
    },
    {
     "name": "stdout",
     "output_type": "stream",
     "text": [
      "Save new model on epoch: 1\n",
      "[epoch: 1] train: 4.5949572042042695 - val: 4.1170125007629395\n"
     ]
    },
    {
     "name": "stderr",
     "output_type": "stream",
     "text": [
      " 17%|█▋        | 2/12 [00:21<01:47, 10.74s/it]"
     ]
    },
    {
     "name": "stdout",
     "output_type": "stream",
     "text": [
      "Save new model on epoch: 2\n",
      "[epoch: 2] train: 3.977288518139366 - val: 3.7995035648345947\n"
     ]
    },
    {
     "name": "stderr",
     "output_type": "stream",
     "text": [
      " 25%|██▌       | 3/12 [00:32<01:37, 10.82s/it]"
     ]
    },
    {
     "name": "stdout",
     "output_type": "stream",
     "text": [
      "Save new model on epoch: 3\n",
      "[epoch: 3] train: 3.5550281194454145 - val: 3.6596181392669678\n"
     ]
    },
    {
     "name": "stderr",
     "output_type": "stream",
     "text": [
      " 33%|███▎      | 4/12 [00:42<01:25, 10.70s/it]"
     ]
    },
    {
     "name": "stdout",
     "output_type": "stream",
     "text": [
      "Save new model on epoch: 4\n",
      "[epoch: 4] train: 3.195357079072494 - val: 3.6428141593933105\n"
     ]
    },
    {
     "name": "stderr",
     "output_type": "stream",
     "text": [
      " 42%|████▏     | 5/12 [00:53<01:13, 10.49s/it]"
     ]
    },
    {
     "name": "stdout",
     "output_type": "stream",
     "text": [
      "Save new model on epoch: 5\n",
      "[epoch: 5] train: 2.859014451397854 - val: 3.6325838565826416\n"
     ]
    },
    {
     "name": "stderr",
     "output_type": "stream",
     "text": [
      " 50%|█████     | 6/12 [01:03<01:01, 10.29s/it]"
     ]
    },
    {
     "name": "stdout",
     "output_type": "stream",
     "text": [
      "[epoch: 6] train: 2.6054250454396026 - val: 3.681940793991089\n"
     ]
    },
    {
     "name": "stderr",
     "output_type": "stream",
     "text": [
      " 58%|█████▊    | 7/12 [01:12<00:50, 10.16s/it]"
     ]
    },
    {
     "name": "stdout",
     "output_type": "stream",
     "text": [
      "[epoch: 7] train: 2.4314276158500436 - val: 3.7278892993927\n"
     ]
    },
    {
     "name": "stderr",
     "output_type": "stream",
     "text": [
      " 67%|██████▋   | 8/12 [01:22<00:40, 10.07s/it]"
     ]
    },
    {
     "name": "stdout",
     "output_type": "stream",
     "text": [
      "[epoch: 8] train: 2.2812083346800853 - val: 3.727844476699829\n"
     ]
    },
    {
     "name": "stderr",
     "output_type": "stream",
     "text": [
      " 75%|███████▌  | 9/12 [01:32<00:30, 10.01s/it]"
     ]
    },
    {
     "name": "stdout",
     "output_type": "stream",
     "text": [
      "[epoch: 9] train: 2.170528189153714 - val: 3.731149911880493\n"
     ]
    },
    {
     "name": "stderr",
     "output_type": "stream",
     "text": [
      " 75%|███████▌  | 9/12 [01:42<00:34, 11.38s/it]"
     ]
    },
    {
     "name": "stdout",
     "output_type": "stream",
     "text": [
      "[epoch: 10] train: 2.1009224397644255 - val: 3.7462754249572754\n",
      "Early Stopped after epoch 10\n"
     ]
    },
    {
     "name": "stderr",
     "output_type": "stream",
     "text": [
      "\n"
     ]
    },
    {
     "data": {
      "text/plain": [
       "{'train': 2.1009224397644255,\n",
       " 'val': 3.7462754249572754,\n",
       " 'best_loss': tensor(73581.6172, device='mps:0', grad_fn=<MseLossBackward0>)}"
      ]
     },
     "execution_count": 18,
     "metadata": {},
     "output_type": "execute_result"
    }
   ],
   "source": [
    "model_train(dataset, config)"
   ]
  },
  {
   "cell_type": "code",
   "execution_count": 19,
   "metadata": {},
   "outputs": [
    {
     "data": {
      "text/html": [
       "<div>\n",
       "<style scoped>\n",
       "    .dataframe tbody tr th:only-of-type {\n",
       "        vertical-align: middle;\n",
       "    }\n",
       "\n",
       "    .dataframe tbody tr th {\n",
       "        vertical-align: top;\n",
       "    }\n",
       "\n",
       "    .dataframe thead th {\n",
       "        text-align: right;\n",
       "    }\n",
       "</style>\n",
       "<table border=\"1\" class=\"dataframe\">\n",
       "  <thead>\n",
       "    <tr style=\"text-align: right;\">\n",
       "      <th></th>\n",
       "      <th>userId</th>\n",
       "      <th>movieId</th>\n",
       "      <th>rating</th>\n",
       "      <th>time</th>\n",
       "    </tr>\n",
       "  </thead>\n",
       "  <tbody>\n",
       "    <tr>\n",
       "      <th>86381</th>\n",
       "      <td>14566</td>\n",
       "      <td>10213</td>\n",
       "      <td>10</td>\n",
       "      <td>1082734020</td>\n",
       "    </tr>\n",
       "    <tr>\n",
       "      <th>78663</th>\n",
       "      <td>12048</td>\n",
       "      <td>10113</td>\n",
       "      <td>10</td>\n",
       "      <td>1225357740</td>\n",
       "    </tr>\n",
       "    <tr>\n",
       "      <th>22101</th>\n",
       "      <td>1477</td>\n",
       "      <td>10181</td>\n",
       "      <td>10</td>\n",
       "      <td>1108375800</td>\n",
       "    </tr>\n",
       "    <tr>\n",
       "      <th>5615</th>\n",
       "      <td>170</td>\n",
       "      <td>10142</td>\n",
       "      <td>10</td>\n",
       "      <td>1190847960</td>\n",
       "    </tr>\n",
       "    <tr>\n",
       "      <th>53717</th>\n",
       "      <td>5803</td>\n",
       "      <td>10341</td>\n",
       "      <td>10</td>\n",
       "      <td>1309855740</td>\n",
       "    </tr>\n",
       "  </tbody>\n",
       "</table>\n",
       "</div>"
      ],
      "text/plain": [
       "       userId  movieId  rating        time\n",
       "86381   14566    10213      10  1082734020\n",
       "78663   12048    10113      10  1225357740\n",
       "22101    1477    10181      10  1108375800\n",
       "5615      170    10142      10  1190847960\n",
       "53717    5803    10341      10  1309855740"
      ]
     },
     "execution_count": 19,
     "metadata": {},
     "output_type": "execute_result"
    }
   ],
   "source": [
    "val_df.head()"
   ]
  },
  {
   "cell_type": "code",
   "execution_count": 43,
   "metadata": {},
   "outputs": [],
   "source": [
    "user_id = 105 # sample user"
   ]
  },
  {
   "cell_type": "code",
   "execution_count": 44,
   "metadata": {},
   "outputs": [
    {
     "data": {
      "text/html": [
       "<div>\n",
       "<style scoped>\n",
       "    .dataframe tbody tr th:only-of-type {\n",
       "        vertical-align: middle;\n",
       "    }\n",
       "\n",
       "    .dataframe tbody tr th {\n",
       "        vertical-align: top;\n",
       "    }\n",
       "\n",
       "    .dataframe thead th {\n",
       "        text-align: right;\n",
       "    }\n",
       "</style>\n",
       "<table border=\"1\" class=\"dataframe\">\n",
       "  <thead>\n",
       "    <tr style=\"text-align: right;\">\n",
       "      <th></th>\n",
       "      <th>title</th>\n",
       "      <th>year</th>\n",
       "      <th>genres</th>\n",
       "    </tr>\n",
       "  </thead>\n",
       "  <tbody>\n",
       "    <tr>\n",
       "      <th>0</th>\n",
       "      <td>바람과 함께 사라지다</td>\n",
       "      <td>1995.0</td>\n",
       "      <td>멜로/로맨스/드라마/전쟁</td>\n",
       "    </tr>\n",
       "    <tr>\n",
       "      <th>1</th>\n",
       "      <td>내일을 향해 쏴라</td>\n",
       "      <td>1970.0</td>\n",
       "      <td>드라마/서부/범죄</td>\n",
       "    </tr>\n",
       "    <tr>\n",
       "      <th>2</th>\n",
       "      <td>아마데우스</td>\n",
       "      <td>2015.0</td>\n",
       "      <td>드라마</td>\n",
       "    </tr>\n",
       "    <tr>\n",
       "      <th>3</th>\n",
       "      <td>델마와 루이스</td>\n",
       "      <td>2017.0</td>\n",
       "      <td>드라마</td>\n",
       "    </tr>\n",
       "    <tr>\n",
       "      <th>4</th>\n",
       "      <td>대부</td>\n",
       "      <td>2010.0</td>\n",
       "      <td>드라마/스릴러/범죄</td>\n",
       "    </tr>\n",
       "    <tr>\n",
       "      <th>5</th>\n",
       "      <td>티파니에서 아침을</td>\n",
       "      <td>2012.0</td>\n",
       "      <td>멜로/로맨스/드라마</td>\n",
       "    </tr>\n",
       "    <tr>\n",
       "      <th>6</th>\n",
       "      <td>싸이코</td>\n",
       "      <td>1962.0</td>\n",
       "      <td>스릴러/공포/미스터리</td>\n",
       "    </tr>\n",
       "    <tr>\n",
       "      <th>7</th>\n",
       "      <td>사운드 오브 뮤직</td>\n",
       "      <td>2017.0</td>\n",
       "      <td>멜로/로맨스/뮤지컬/드라마</td>\n",
       "    </tr>\n",
       "    <tr>\n",
       "      <th>8</th>\n",
       "      <td>베를린 천사의 시</td>\n",
       "      <td>1993.0</td>\n",
       "      <td>멜로/로맨스/판타지/드라마</td>\n",
       "    </tr>\n",
       "    <tr>\n",
       "      <th>9</th>\n",
       "      <td>아마데우스</td>\n",
       "      <td>2015.0</td>\n",
       "      <td>드라마</td>\n",
       "    </tr>\n",
       "    <tr>\n",
       "      <th>10</th>\n",
       "      <td>가위손</td>\n",
       "      <td>2014.0</td>\n",
       "      <td>판타지/멜로/로맨스</td>\n",
       "    </tr>\n",
       "    <tr>\n",
       "      <th>11</th>\n",
       "      <td>늑대와 춤을</td>\n",
       "      <td>1991.0</td>\n",
       "      <td>드라마/서부/모험</td>\n",
       "    </tr>\n",
       "    <tr>\n",
       "      <th>12</th>\n",
       "      <td>사랑은 비를 타고</td>\n",
       "      <td>1954.0</td>\n",
       "      <td>멜로/로맨스/뮤지컬/코미디</td>\n",
       "    </tr>\n",
       "    <tr>\n",
       "      <th>13</th>\n",
       "      <td>대부 2</td>\n",
       "      <td>2010.0</td>\n",
       "      <td>드라마/범죄</td>\n",
       "    </tr>\n",
       "    <tr>\n",
       "      <th>14</th>\n",
       "      <td>오즈의 마법사</td>\n",
       "      <td>2012.0</td>\n",
       "      <td>판타지/뮤지컬/모험/가족</td>\n",
       "    </tr>\n",
       "    <tr>\n",
       "      <th>15</th>\n",
       "      <td>레인 맨</td>\n",
       "      <td>1989.0</td>\n",
       "      <td>드라마</td>\n",
       "    </tr>\n",
       "    <tr>\n",
       "      <th>16</th>\n",
       "      <td>모던 타임즈</td>\n",
       "      <td>2015.0</td>\n",
       "      <td>코미디</td>\n",
       "    </tr>\n",
       "    <tr>\n",
       "      <th>17</th>\n",
       "      <td>집시의 시간</td>\n",
       "      <td>1993.0</td>\n",
       "      <td>드라마</td>\n",
       "    </tr>\n",
       "    <tr>\n",
       "      <th>18</th>\n",
       "      <td>빠삐용</td>\n",
       "      <td>2016.0</td>\n",
       "      <td>드라마/모험/범죄</td>\n",
       "    </tr>\n",
       "    <tr>\n",
       "      <th>19</th>\n",
       "      <td>디어 헌터</td>\n",
       "      <td>1979.0</td>\n",
       "      <td>드라마/전쟁</td>\n",
       "    </tr>\n",
       "  </tbody>\n",
       "</table>\n",
       "</div>"
      ],
      "text/plain": [
       "          title    year          genres\n",
       "0   바람과 함께 사라지다  1995.0   멜로/로맨스/드라마/전쟁\n",
       "1     내일을 향해 쏴라  1970.0       드라마/서부/범죄\n",
       "2         아마데우스  2015.0             드라마\n",
       "3       델마와 루이스  2017.0             드라마\n",
       "4            대부  2010.0      드라마/스릴러/범죄\n",
       "5     티파니에서 아침을  2012.0      멜로/로맨스/드라마\n",
       "6           싸이코  1962.0     스릴러/공포/미스터리\n",
       "7     사운드 오브 뮤직  2017.0  멜로/로맨스/뮤지컬/드라마\n",
       "8     베를린 천사의 시  1993.0  멜로/로맨스/판타지/드라마\n",
       "9         아마데우스  2015.0             드라마\n",
       "10          가위손  2014.0      판타지/멜로/로맨스\n",
       "11       늑대와 춤을  1991.0       드라마/서부/모험\n",
       "12    사랑은 비를 타고  1954.0  멜로/로맨스/뮤지컬/코미디\n",
       "13         대부 2  2010.0          드라마/범죄\n",
       "14      오즈의 마법사  2012.0   판타지/뮤지컬/모험/가족\n",
       "15         레인 맨  1989.0             드라마\n",
       "16       모던 타임즈  2015.0             코미디\n",
       "17       집시의 시간  1993.0             드라마\n",
       "18          빠삐용  2016.0       드라마/모험/범죄\n",
       "19        디어 헌터  1979.0          드라마/전쟁"
      ]
     },
     "execution_count": 44,
     "metadata": {},
     "output_type": "execute_result"
    }
   ],
   "source": [
    "pd.merge(\n",
    "    train_df.loc[train_df['userId']==user_id].sort_values(by='rating', ascending=False), \n",
    "movies_df.rename(columns={'movie':'movieId'}), on='movieId',how='left'\n",
    ")[['title','year','genres']].dropna().head(20)"
   ]
  },
  {
   "cell_type": "code",
   "execution_count": 45,
   "metadata": {},
   "outputs": [
    {
     "data": {
      "text/plain": [
       "541"
      ]
     },
     "execution_count": 45,
     "metadata": {},
     "output_type": "execute_result"
    }
   ],
   "source": [
    "watched_movieId = train_df.loc[train_df['userId']==user_id,'movieId'].unique()\n",
    "nonwatched_movieId = train_df.loc[~train_df['movieId'].isin(watched_movieId),'movieId'].unique()\n",
    "len(nonwatched_movieId)"
   ]
  },
  {
   "cell_type": "code",
   "execution_count": 46,
   "metadata": {},
   "outputs": [
    {
     "data": {
      "text/html": [
       "<div>\n",
       "<style scoped>\n",
       "    .dataframe tbody tr th:only-of-type {\n",
       "        vertical-align: middle;\n",
       "    }\n",
       "\n",
       "    .dataframe tbody tr th {\n",
       "        vertical-align: top;\n",
       "    }\n",
       "\n",
       "    .dataframe thead th {\n",
       "        text-align: right;\n",
       "    }\n",
       "</style>\n",
       "<table border=\"1\" class=\"dataframe\">\n",
       "  <thead>\n",
       "    <tr style=\"text-align: right;\">\n",
       "      <th></th>\n",
       "      <th>userId</th>\n",
       "      <th>movieId</th>\n",
       "      <th>movieName</th>\n",
       "      <th>genres</th>\n",
       "      <th>pred_ratings</th>\n",
       "    </tr>\n",
       "  </thead>\n",
       "  <tbody>\n",
       "    <tr>\n",
       "      <th>116</th>\n",
       "      <td>105</td>\n",
       "      <td>10301</td>\n",
       "      <td>007 황금총을 가진 사나이</td>\n",
       "      <td>액션</td>\n",
       "      <td>4.659660</td>\n",
       "    </tr>\n",
       "    <tr>\n",
       "      <th>53</th>\n",
       "      <td>105</td>\n",
       "      <td>10940</td>\n",
       "      <td>영자의 전성시대</td>\n",
       "      <td>멜로/로맨스/드라마</td>\n",
       "      <td>4.522726</td>\n",
       "    </tr>\n",
       "    <tr>\n",
       "      <th>41</th>\n",
       "      <td>105</td>\n",
       "      <td>10033</td>\n",
       "      <td>라 밤바</td>\n",
       "      <td>드라마</td>\n",
       "      <td>4.512043</td>\n",
       "    </tr>\n",
       "    <tr>\n",
       "      <th>450</th>\n",
       "      <td>105</td>\n",
       "      <td>10152</td>\n",
       "      <td>아파치</td>\n",
       "      <td>서부</td>\n",
       "      <td>4.458166</td>\n",
       "    </tr>\n",
       "    <tr>\n",
       "      <th>17</th>\n",
       "      <td>105</td>\n",
       "      <td>10173</td>\n",
       "      <td>록키 2</td>\n",
       "      <td>드라마/액션</td>\n",
       "      <td>4.453176</td>\n",
       "    </tr>\n",
       "    <tr>\n",
       "      <th>470</th>\n",
       "      <td>105</td>\n",
       "      <td>10462</td>\n",
       "      <td>나일 살인사건</td>\n",
       "      <td>미스터리/범죄</td>\n",
       "      <td>4.437230</td>\n",
       "    </tr>\n",
       "    <tr>\n",
       "      <th>47</th>\n",
       "      <td>105</td>\n",
       "      <td>10629</td>\n",
       "      <td>프레데터</td>\n",
       "      <td>SF/액션/스릴러/공포</td>\n",
       "      <td>4.409897</td>\n",
       "    </tr>\n",
       "    <tr>\n",
       "      <th>315</th>\n",
       "      <td>105</td>\n",
       "      <td>10822</td>\n",
       "      <td>블랙 레인</td>\n",
       "      <td>드라마/액션/범죄</td>\n",
       "      <td>4.398178</td>\n",
       "    </tr>\n",
       "    <tr>\n",
       "      <th>86</th>\n",
       "      <td>105</td>\n",
       "      <td>10767</td>\n",
       "      <td>강시번생</td>\n",
       "      <td>코미디/공포</td>\n",
       "      <td>4.392677</td>\n",
       "    </tr>\n",
       "    <tr>\n",
       "      <th>144</th>\n",
       "      <td>105</td>\n",
       "      <td>10185</td>\n",
       "      <td>터미네이터 2:오리지널</td>\n",
       "      <td>SF/액션/스릴러</td>\n",
       "      <td>4.353568</td>\n",
       "    </tr>\n",
       "    <tr>\n",
       "      <th>204</th>\n",
       "      <td>105</td>\n",
       "      <td>10472</td>\n",
       "      <td>프로젝트A 2 : A계획 속집</td>\n",
       "      <td>액션</td>\n",
       "      <td>4.318396</td>\n",
       "    </tr>\n",
       "    <tr>\n",
       "      <th>139</th>\n",
       "      <td>105</td>\n",
       "      <td>10405</td>\n",
       "      <td>레드 소냐</td>\n",
       "      <td>NaN</td>\n",
       "      <td>4.316489</td>\n",
       "    </tr>\n",
       "    <tr>\n",
       "      <th>196</th>\n",
       "      <td>105</td>\n",
       "      <td>10630</td>\n",
       "      <td>사막의 라이온</td>\n",
       "      <td>드라마/전쟁</td>\n",
       "      <td>4.315974</td>\n",
       "    </tr>\n",
       "    <tr>\n",
       "      <th>216</th>\n",
       "      <td>105</td>\n",
       "      <td>10015</td>\n",
       "      <td>신의 아들</td>\n",
       "      <td>드라마/액션</td>\n",
       "      <td>4.232039</td>\n",
       "    </tr>\n",
       "    <tr>\n",
       "      <th>381</th>\n",
       "      <td>105</td>\n",
       "      <td>10354</td>\n",
       "      <td>패튼 대전차 군단</td>\n",
       "      <td>전쟁</td>\n",
       "      <td>4.211971</td>\n",
       "    </tr>\n",
       "    <tr>\n",
       "      <th>63</th>\n",
       "      <td>105</td>\n",
       "      <td>10588</td>\n",
       "      <td>챔프</td>\n",
       "      <td>드라마</td>\n",
       "      <td>4.209719</td>\n",
       "    </tr>\n",
       "    <tr>\n",
       "      <th>289</th>\n",
       "      <td>105</td>\n",
       "      <td>10979</td>\n",
       "      <td>야수의 최후</td>\n",
       "      <td>드라마/스릴러/범죄</td>\n",
       "      <td>4.198318</td>\n",
       "    </tr>\n",
       "    <tr>\n",
       "      <th>38</th>\n",
       "      <td>105</td>\n",
       "      <td>10016</td>\n",
       "      <td>죽은 시인의 사회</td>\n",
       "      <td>드라마</td>\n",
       "      <td>4.190867</td>\n",
       "    </tr>\n",
       "    <tr>\n",
       "      <th>60</th>\n",
       "      <td>105</td>\n",
       "      <td>10640</td>\n",
       "      <td>미션</td>\n",
       "      <td>드라마</td>\n",
       "      <td>4.158342</td>\n",
       "    </tr>\n",
       "    <tr>\n",
       "      <th>224</th>\n",
       "      <td>105</td>\n",
       "      <td>10116</td>\n",
       "      <td>베드룸 윈도우</td>\n",
       "      <td>스릴러/미스터리/범죄</td>\n",
       "      <td>4.153183</td>\n",
       "    </tr>\n",
       "  </tbody>\n",
       "</table>\n",
       "</div>"
      ],
      "text/plain": [
       "     userId  movieId         movieName        genres  pred_ratings\n",
       "116     105    10301   007 황금총을 가진 사나이            액션      4.659660\n",
       "53      105    10940          영자의 전성시대    멜로/로맨스/드라마      4.522726\n",
       "41      105    10033              라 밤바           드라마      4.512043\n",
       "450     105    10152               아파치            서부      4.458166\n",
       "17      105    10173              록키 2        드라마/액션      4.453176\n",
       "470     105    10462           나일 살인사건       미스터리/범죄      4.437230\n",
       "47      105    10629              프레데터  SF/액션/스릴러/공포      4.409897\n",
       "315     105    10822             블랙 레인     드라마/액션/범죄      4.398178\n",
       "86      105    10767              강시번생        코미디/공포      4.392677\n",
       "144     105    10185      터미네이터 2:오리지널     SF/액션/스릴러      4.353568\n",
       "204     105    10472  프로젝트A 2 : A계획 속집            액션      4.318396\n",
       "139     105    10405             레드 소냐           NaN      4.316489\n",
       "196     105    10630           사막의 라이온        드라마/전쟁      4.315974\n",
       "216     105    10015             신의 아들        드라마/액션      4.232039\n",
       "381     105    10354         패튼 대전차 군단            전쟁      4.211971\n",
       "63      105    10588                챔프           드라마      4.209719\n",
       "289     105    10979            야수의 최후    드라마/스릴러/범죄      4.198318\n",
       "38      105    10016         죽은 시인의 사회           드라마      4.190867\n",
       "60      105    10640                미션           드라마      4.158342\n",
       "224     105    10116           베드룸 윈도우   스릴러/미스터리/범죄      4.153183"
      ]
     },
     "execution_count": 46,
     "metadata": {},
     "output_type": "execute_result"
    }
   ],
   "source": [
    "watched_movieId = train_df.loc[train_df['userId']==user_id,'movieId'].unique()\n",
    "movie_id_list = val_df.loc[~val_df['movieId'].isin(watched_movieId),'movieId'].unique().tolist()\n",
    "user_id_list = [user_id] * len(movie_id_list)\n",
    "pred_results = [float(x) for x in model_valid(user_id_list, movie_id_list, path)]\n",
    "\n",
    "result_df = pd.DataFrame({\n",
    "    'userId': user_id_list,\n",
    "    'movieId': movie_id_list,\n",
    "    'movieName': movies_df.loc[movies_df['movie'].isin(movie_id_list),'title'].values,\n",
    "    'genres': movies_df.loc[movies_df['movie'].isin(movie_id_list),'genres'].values,\n",
    "    'pred_ratings': pred_results\n",
    "})\n",
    "\n",
    "result_df.sort_values(by='pred_ratings', ascending=False).head(20)"
   ]
  },
  {
   "cell_type": "code",
   "execution_count": null,
   "metadata": {},
   "outputs": [],
   "source": []
  }
 ],
 "metadata": {
  "kernelspec": {
   "display_name": "torch",
   "language": "python",
   "name": "torch"
  },
  "language_info": {
   "codemirror_mode": {
    "name": "ipython",
    "version": 3
   },
   "file_extension": ".py",
   "mimetype": "text/x-python",
   "name": "python",
   "nbconvert_exporter": "python",
   "pygments_lexer": "ipython3",
   "version": "3.10.15"
  },
  "orig_nbformat": 4
 },
 "nbformat": 4,
 "nbformat_minor": 2
}
