{
 "cells": [
  {
   "cell_type": "code",
   "execution_count": 1,
   "metadata": {},
   "outputs": [
    {
     "data": {
      "text/plain": [
       "'/Users/2021137/recommender_python/movielens'"
      ]
     },
     "execution_count": 1,
     "metadata": {},
     "output_type": "execute_result"
    }
   ],
   "source": [
    "pwd"
   ]
  },
  {
   "cell_type": "code",
   "execution_count": 2,
   "metadata": {},
   "outputs": [
    {
     "name": "stdout",
     "output_type": "stream",
     "text": [
      "Loading movie ratings...\n",
      "/Users/2021137\n",
      "\n",
      "Computing movie popularity ranks so we can measure novelty later...\n",
      "Estimating biases using als...\n",
      "Computing the cosine similarity matrix...\n",
      "Done computing similarity matrix.\n",
      "Evaluating  SVD ...\n",
      "Evaluating accuracy...\n",
      "Evaluating top-N with leave-one-out...\n",
      "Computing hit-rate and rank metrics...\n",
      "Computing recommendations with full data set...\n",
      "Analyzing coverage, diversity, and novelty...\n",
      "Computing the cosine similarity matrix...\n",
      "Done computing similarity matrix.\n",
      "Analysis complete.\n",
      "Evaluating  Random ...\n",
      "Evaluating accuracy...\n",
      "Evaluating top-N with leave-one-out...\n",
      "Computing hit-rate and rank metrics...\n",
      "Computing recommendations with full data set...\n",
      "Analyzing coverage, diversity, and novelty...\n",
      "Computing the cosine similarity matrix...\n",
      "Done computing similarity matrix.\n",
      "Analysis complete.\n",
      "\n",
      "\n",
      "Algorithm  RMSE       MAE        HR         cHR        ARHR       Coverage   Diversity  Novelty   \n",
      "SVD        0.8779     0.6732     0.0361     0.0361     0.0133     0.9246     0.0314     504.3874  \n",
      "Random     1.4227     1.1375     0.0180     0.0180     0.0090     1.0000     0.0535     843.9634  \n",
      "\n",
      "Legend:\n",
      "\n",
      "RMSE:      Root Mean Squared Error. Lower values mean better accuracy.\n",
      "MAE:       Mean Absolute Error. Lower values mean better accuracy.\n",
      "HR:        Hit Rate; how often we are able to recommend a left-out rating. Higher is better.\n",
      "cHR:       Cumulative Hit Rate; hit rate, confined to ratings above a certain threshold. Higher is better.\n",
      "ARHR:      Average Reciprocal Hit Rank - Hit rate that takes the ranking into account. Higher is better.\n",
      "Coverage:  Ratio of users for whom recommendations above a certain threshold exist. Higher is better.\n",
      "Diversity: 1-S, where S is the average similarity score between every possible pair of recommendations\n",
      "           for a given user. Higher means more diverse.\n",
      "Novelty:   Average popularity rank of recommended items. Higher means more novel.\n"
     ]
    },
    {
     "data": {
      "text/plain": [
       "{'SVD': {'RMSE': 0.87790565300794,\n",
       "  'MAE': 0.6731720779996845,\n",
       "  'HR': 0.036065573770491806,\n",
       "  'cHR': 0.036065573770491806,\n",
       "  'ARHR': 0.013333333333333332,\n",
       "  'Coverage': 0.9245901639344263,\n",
       "  'Diversity': 0.03138572161157538,\n",
       "  'Novelty': 504.3873857062885},\n",
       " 'Random': {'RMSE': 1.4227093155167418,\n",
       "  'MAE': 1.137519430141597,\n",
       "  'HR': 0.018032786885245903,\n",
       "  'cHR': 0.018032786885245903,\n",
       "  'ARHR': 0.00900273224043716,\n",
       "  'Coverage': 1.0,\n",
       "  'Diversity': 0.05348741648832622,\n",
       "  'Novelty': 843.9634426229508}}"
      ]
     },
     "execution_count": 2,
     "metadata": {},
     "output_type": "execute_result"
    }
   ],
   "source": [
    "import sys, os\n",
    "sys.path.append(sys.path[0]+'/utils/')\n",
    "os.chdir(os.path.dirname(os.getcwd())) # for test in jupyter notebook\n",
    "from surprise import SVD\n",
    "from surprise import NormalPredictor\n",
    "from utils.Evaluator import Evaluator\n",
    "from utils.MovieLens import MovieLens\n",
    "import random\n",
    "import numpy as np\n",
    "\n",
    "def LoadMovieLensData():\n",
    "    ml = MovieLens()\n",
    "    print(\"Loading movie ratings...\")\n",
    "    data = ml.loadMovieLensLatestSmall()\n",
    "    print(\"\\nComputing movie popularity ranks so we can measure novelty later...\")\n",
    "    rankings = ml.getPopularityRanks()\n",
    "    return (data, rankings)\n",
    "\n",
    "np.random.seed(0)\n",
    "random.seed(0)\n",
    "\n",
    "# Load up common data set for the recommender algorithms\n",
    "(evaluationData, rankings) = LoadMovieLensData()\n",
    "\n",
    "# Construct an Evaluator to, you know, evaluate them\n",
    "evaluator = Evaluator(evaluationData, rankings)\n",
    "\n",
    "# Throw in an SVD recommender\n",
    "SVDAlgorithm = SVD(random_state=10)\n",
    "evaluator.AddAlgorithm(SVDAlgorithm, \"SVD\")\n",
    "\n",
    "# Make random recommendations\n",
    "Random = NormalPredictor()\n",
    "evaluator.AddAlgorithm(Random, \"Random\")\n",
    "\n",
    "# Evaluation\n",
    "evaluator.Evaluate(True)"
   ]
  },
  {
   "cell_type": "code",
   "execution_count": 5,
   "metadata": {},
   "outputs": [],
   "source": [
    "result_dict = {'SVD': {'RMSE': 0.87790565300794,\n",
    "  'MAE': 0.6731720779996845,\n",
    "  'HR': 0.036065573770491806,\n",
    "  'cHR': 0.036065573770491806,\n",
    "  'ARHR': 0.013333333333333332,\n",
    "  'Coverage': 0.9245901639344263,\n",
    "  'Diversity': 0.03138572161157538,\n",
    "  'Novelty': 504.3873857062885},\n",
    " 'Random': {'RMSE': 1.4227093155167418,\n",
    "  'MAE': 1.137519430141597,\n",
    "  'HR': 0.018032786885245903,\n",
    "  'cHR': 0.018032786885245903,\n",
    "  'ARHR': 0.00900273224043716,\n",
    "  'Coverage': 1.0,\n",
    "  'Diversity': 0.05348741648832622,\n",
    "  'Novelty': 843.9634426229508}}"
   ]
  },
  {
   "cell_type": "code",
   "execution_count": 6,
   "metadata": {},
   "outputs": [],
   "source": [
    "import json\n",
    "results_js = json.dumps(result_dict)"
   ]
  },
  {
   "cell_type": "code",
   "execution_count": 7,
   "metadata": {},
   "outputs": [],
   "source": [
    "from datetime import datetime"
   ]
  },
  {
   "cell_type": "code",
   "execution_count": 10,
   "metadata": {},
   "outputs": [],
   "source": [
    "exp_name = \"exp_rand_svd\"\n",
    "date = datetime.today().strftime(format='%Y%M%d%H%m%s')\n",
    "filename = './movielens/results/{}-{}.json'.format(exp_name, date)\n",
    "\n",
    "with open(filename, 'w') as f:\n",
    "     json.dump(result_dict, f)"
   ]
  },
  {
   "cell_type": "code",
   "execution_count": 1,
   "metadata": {},
   "outputs": [],
   "source": [
    "import math\n",
    "def computeYearSimilarity(movie1, movie2, years):\n",
    "    diff = abs(years[movie1] - years[movie2])\n",
    "    sim = math.exp(-diff / 10.0)\n",
    "    return sim"
   ]
  },
  {
   "cell_type": "code",
   "execution_count": 2,
   "metadata": {},
   "outputs": [
    {
     "data": {
      "text/plain": [
       "0.36787944117144233"
      ]
     },
     "execution_count": 2,
     "metadata": {},
     "output_type": "execute_result"
    }
   ],
   "source": [
    "math.exp(-10 /  10.0)"
   ]
  },
  {
   "cell_type": "code",
   "execution_count": 3,
   "metadata": {},
   "outputs": [
    {
     "data": {
      "text/plain": [
       "0.6065306597126334"
      ]
     },
     "execution_count": 3,
     "metadata": {},
     "output_type": "execute_result"
    }
   ],
   "source": [
    "math.exp(-5 /  10.0)"
   ]
  },
  {
   "cell_type": "code",
   "execution_count": 6,
   "metadata": {},
   "outputs": [
    {
     "data": {
      "image/png": "[encoded data removed]",
      "text/plain": [
       "<Figure size 640x480 with 1 Axes>"
      ]
     },
     "metadata": {},
     "output_type": "display_data"
    }
   ],
   "source": [
    "%matplotlib inline\n",
    "import matplotlib.pyplot as plt\n",
    "\n",
    "# 데이터\n",
    "X = list(range(1,20))   \n",
    "y = []\n",
    "for x in X:\n",
    "    y.append(math.exp(-x / 10.0))   # y = 3x - 24\n",
    "    \n",
    "# 그래프\n",
    "plt.plot(y)\n",
    "plt.grid(color='0.8')\n",
    "plt.show()"
   ]
  },
  {
   "cell_type": "code",
   "execution_count": null,
   "metadata": {},
   "outputs": [],
   "source": []
  }
 ],
 "metadata": {
  "kernelspec": {
   "display_name": "Python 3.10.8 64-bit",
   "language": "python",
   "name": "python3"
  },
  "language_info": {
   "codemirror_mode": {
    "name": "ipython",
    "version": 3
   },
   "file_extension": ".py",
   "mimetype": "text/x-python",
   "name": "python",
   "nbconvert_exporter": "python",
   "pygments_lexer": "ipython3",
   "version": "3.10.8"
  },
  "orig_nbformat": 4,
  "vscode": {
   "interpreter": {
    "hash": "b0fa6594d8f4cbf19f97940f81e996739fb7646882a419484c72d19e05852a7e"
   }
  }
 },
 "nbformat": 4,
 "nbformat_minor": 2
}
